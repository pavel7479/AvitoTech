{
  "nbformat": 4,
  "nbformat_minor": 0,
  "metadata": {
    "colab": {
      "provenance": [],
      "authorship_tag": "ABX9TyNixVT9gXeC44/2kPBwjf7y",
      "include_colab_link": true
    },
    "kernelspec": {
      "name": "python3",
      "display_name": "Python 3"
    },
    "language_info": {
      "name": "python"
    }
  },
  "cells": [
    {
      "cell_type": "markdown",
      "metadata": {
        "id": "view-in-github",
        "colab_type": "text"
      },
      "source": [
        "<a href=\"https://colab.research.google.com/github/pavel7479/AvitoTech/blob/master/Chempionat_Football.ipynb\" target=\"_parent\"><img src=\"https://colab.research.google.com/assets/colab-badge.svg\" alt=\"Open In Colab\"/></a>"
      ]
    },
    {
      "cell_type": "markdown",
      "source": [
        "# Описание задачи"
      ],
      "metadata": {
        "id": "VV5TyauZqnuz"
      }
    },
    {
      "cell_type": "markdown",
      "source": [
        "Есть результаты футбольных матчей чемпионта Италии по футболу с 1979 года. Задача сделать нейросеть которая предсказывала бы результаты текущего чемпионата, что бы упростить задачу НС должна предсказать не проиграет ли команда которая играет дома, т.е у нас два результата проигрыш и не проигрыш (ничья или выигрышь не важно). Тестировать НС предлагаю как на текущем чемпионате Италии так и интересна её работа на чемпионате Испании т.к. уровень чемпионатов одинаков, менталитет стран похож. Куратор предложил решить данную задачу с помощью временных рядов, но почитав статьи в интрнете я решил решать её с помощью регрессии."
      ],
      "metadata": {
        "id": "vMwfDu1JqytV"
      }
    },
    {
      "cell_type": "code",
      "execution_count": 1,
      "metadata": {
        "id": "u4pFhsNJqih0"
      },
      "outputs": [],
      "source": [
        "import pandas as pd\n",
        "import numpy as np\n",
        "import collections"
      ]
    },
    {
      "cell_type": "code",
      "source": [
        "data = pd.read_csv(\"2011_2012.csv\", encoding = 'cp1251', delimiter=',')\n",
        "data.head()"
      ],
      "metadata": {
        "colab": {
          "base_uri": "https://localhost:8080/",
          "height": 345
        },
        "id": "RJYdtGWsHu0D",
        "outputId": "8004b1bc-2609-4eeb-ebc2-525dbcc62fc5"
      },
      "execution_count": 2,
      "outputs": [
        {
          "output_type": "error",
          "ename": "FileNotFoundError",
          "evalue": "ignored",
          "traceback": [
            "\u001b[0;31m---------------------------------------------------------------------------\u001b[0m",
            "\u001b[0;31mFileNotFoundError\u001b[0m                         Traceback (most recent call last)",
            "\u001b[0;32m<ipython-input-2-7aa472337619>\u001b[0m in \u001b[0;36m<cell line: 1>\u001b[0;34m()\u001b[0m\n\u001b[0;32m----> 1\u001b[0;31m \u001b[0mdata\u001b[0m \u001b[0;34m=\u001b[0m \u001b[0mpd\u001b[0m\u001b[0;34m.\u001b[0m\u001b[0mread_csv\u001b[0m\u001b[0;34m(\u001b[0m\u001b[0;34m\"2011_2012.csv\"\u001b[0m\u001b[0;34m,\u001b[0m \u001b[0mencoding\u001b[0m \u001b[0;34m=\u001b[0m \u001b[0;34m'cp1251'\u001b[0m\u001b[0;34m,\u001b[0m \u001b[0mdelimiter\u001b[0m\u001b[0;34m=\u001b[0m\u001b[0;34m','\u001b[0m\u001b[0;34m)\u001b[0m\u001b[0;34m\u001b[0m\u001b[0;34m\u001b[0m\u001b[0m\n\u001b[0m\u001b[1;32m      2\u001b[0m \u001b[0mdata\u001b[0m\u001b[0;34m.\u001b[0m\u001b[0mhead\u001b[0m\u001b[0;34m(\u001b[0m\u001b[0;34m)\u001b[0m\u001b[0;34m\u001b[0m\u001b[0;34m\u001b[0m\u001b[0m\n",
            "\u001b[0;32m/usr/local/lib/python3.10/dist-packages/pandas/util/_decorators.py\u001b[0m in \u001b[0;36mwrapper\u001b[0;34m(*args, **kwargs)\u001b[0m\n\u001b[1;32m    209\u001b[0m                 \u001b[0;32melse\u001b[0m\u001b[0;34m:\u001b[0m\u001b[0;34m\u001b[0m\u001b[0;34m\u001b[0m\u001b[0m\n\u001b[1;32m    210\u001b[0m                     \u001b[0mkwargs\u001b[0m\u001b[0;34m[\u001b[0m\u001b[0mnew_arg_name\u001b[0m\u001b[0;34m]\u001b[0m \u001b[0;34m=\u001b[0m \u001b[0mnew_arg_value\u001b[0m\u001b[0;34m\u001b[0m\u001b[0;34m\u001b[0m\u001b[0m\n\u001b[0;32m--> 211\u001b[0;31m             \u001b[0;32mreturn\u001b[0m \u001b[0mfunc\u001b[0m\u001b[0;34m(\u001b[0m\u001b[0;34m*\u001b[0m\u001b[0margs\u001b[0m\u001b[0;34m,\u001b[0m \u001b[0;34m**\u001b[0m\u001b[0mkwargs\u001b[0m\u001b[0;34m)\u001b[0m\u001b[0;34m\u001b[0m\u001b[0;34m\u001b[0m\u001b[0m\n\u001b[0m\u001b[1;32m    212\u001b[0m \u001b[0;34m\u001b[0m\u001b[0m\n\u001b[1;32m    213\u001b[0m         \u001b[0;32mreturn\u001b[0m \u001b[0mcast\u001b[0m\u001b[0;34m(\u001b[0m\u001b[0mF\u001b[0m\u001b[0;34m,\u001b[0m \u001b[0mwrapper\u001b[0m\u001b[0;34m)\u001b[0m\u001b[0;34m\u001b[0m\u001b[0;34m\u001b[0m\u001b[0m\n",
            "\u001b[0;32m/usr/local/lib/python3.10/dist-packages/pandas/util/_decorators.py\u001b[0m in \u001b[0;36mwrapper\u001b[0;34m(*args, **kwargs)\u001b[0m\n\u001b[1;32m    329\u001b[0m                     \u001b[0mstacklevel\u001b[0m\u001b[0;34m=\u001b[0m\u001b[0mfind_stack_level\u001b[0m\u001b[0;34m(\u001b[0m\u001b[0;34m)\u001b[0m\u001b[0;34m,\u001b[0m\u001b[0;34m\u001b[0m\u001b[0;34m\u001b[0m\u001b[0m\n\u001b[1;32m    330\u001b[0m                 )\n\u001b[0;32m--> 331\u001b[0;31m             \u001b[0;32mreturn\u001b[0m \u001b[0mfunc\u001b[0m\u001b[0;34m(\u001b[0m\u001b[0;34m*\u001b[0m\u001b[0margs\u001b[0m\u001b[0;34m,\u001b[0m \u001b[0;34m**\u001b[0m\u001b[0mkwargs\u001b[0m\u001b[0;34m)\u001b[0m\u001b[0;34m\u001b[0m\u001b[0;34m\u001b[0m\u001b[0m\n\u001b[0m\u001b[1;32m    332\u001b[0m \u001b[0;34m\u001b[0m\u001b[0m\n\u001b[1;32m    333\u001b[0m         \u001b[0;31m# error: \"Callable[[VarArg(Any), KwArg(Any)], Any]\" has no\u001b[0m\u001b[0;34m\u001b[0m\u001b[0;34m\u001b[0m\u001b[0m\n",
            "\u001b[0;32m/usr/local/lib/python3.10/dist-packages/pandas/io/parsers/readers.py\u001b[0m in \u001b[0;36mread_csv\u001b[0;34m(filepath_or_buffer, sep, delimiter, header, names, index_col, usecols, squeeze, prefix, mangle_dupe_cols, dtype, engine, converters, true_values, false_values, skipinitialspace, skiprows, skipfooter, nrows, na_values, keep_default_na, na_filter, verbose, skip_blank_lines, parse_dates, infer_datetime_format, keep_date_col, date_parser, dayfirst, cache_dates, iterator, chunksize, compression, thousands, decimal, lineterminator, quotechar, quoting, doublequote, escapechar, comment, encoding, encoding_errors, dialect, error_bad_lines, warn_bad_lines, on_bad_lines, delim_whitespace, low_memory, memory_map, float_precision, storage_options)\u001b[0m\n\u001b[1;32m    948\u001b[0m     \u001b[0mkwds\u001b[0m\u001b[0;34m.\u001b[0m\u001b[0mupdate\u001b[0m\u001b[0;34m(\u001b[0m\u001b[0mkwds_defaults\u001b[0m\u001b[0;34m)\u001b[0m\u001b[0;34m\u001b[0m\u001b[0;34m\u001b[0m\u001b[0m\n\u001b[1;32m    949\u001b[0m \u001b[0;34m\u001b[0m\u001b[0m\n\u001b[0;32m--> 950\u001b[0;31m     \u001b[0;32mreturn\u001b[0m \u001b[0m_read\u001b[0m\u001b[0;34m(\u001b[0m\u001b[0mfilepath_or_buffer\u001b[0m\u001b[0;34m,\u001b[0m \u001b[0mkwds\u001b[0m\u001b[0;34m)\u001b[0m\u001b[0;34m\u001b[0m\u001b[0;34m\u001b[0m\u001b[0m\n\u001b[0m\u001b[1;32m    951\u001b[0m \u001b[0;34m\u001b[0m\u001b[0m\n\u001b[1;32m    952\u001b[0m \u001b[0;34m\u001b[0m\u001b[0m\n",
            "\u001b[0;32m/usr/local/lib/python3.10/dist-packages/pandas/io/parsers/readers.py\u001b[0m in \u001b[0;36m_read\u001b[0;34m(filepath_or_buffer, kwds)\u001b[0m\n\u001b[1;32m    603\u001b[0m \u001b[0;34m\u001b[0m\u001b[0m\n\u001b[1;32m    604\u001b[0m     \u001b[0;31m# Create the parser.\u001b[0m\u001b[0;34m\u001b[0m\u001b[0;34m\u001b[0m\u001b[0m\n\u001b[0;32m--> 605\u001b[0;31m     \u001b[0mparser\u001b[0m \u001b[0;34m=\u001b[0m \u001b[0mTextFileReader\u001b[0m\u001b[0;34m(\u001b[0m\u001b[0mfilepath_or_buffer\u001b[0m\u001b[0;34m,\u001b[0m \u001b[0;34m**\u001b[0m\u001b[0mkwds\u001b[0m\u001b[0;34m)\u001b[0m\u001b[0;34m\u001b[0m\u001b[0;34m\u001b[0m\u001b[0m\n\u001b[0m\u001b[1;32m    606\u001b[0m \u001b[0;34m\u001b[0m\u001b[0m\n\u001b[1;32m    607\u001b[0m     \u001b[0;32mif\u001b[0m \u001b[0mchunksize\u001b[0m \u001b[0;32mor\u001b[0m \u001b[0miterator\u001b[0m\u001b[0;34m:\u001b[0m\u001b[0;34m\u001b[0m\u001b[0;34m\u001b[0m\u001b[0m\n",
            "\u001b[0;32m/usr/local/lib/python3.10/dist-packages/pandas/io/parsers/readers.py\u001b[0m in \u001b[0;36m__init__\u001b[0;34m(self, f, engine, **kwds)\u001b[0m\n\u001b[1;32m   1440\u001b[0m \u001b[0;34m\u001b[0m\u001b[0m\n\u001b[1;32m   1441\u001b[0m         \u001b[0mself\u001b[0m\u001b[0;34m.\u001b[0m\u001b[0mhandles\u001b[0m\u001b[0;34m:\u001b[0m \u001b[0mIOHandles\u001b[0m \u001b[0;34m|\u001b[0m \u001b[0;32mNone\u001b[0m \u001b[0;34m=\u001b[0m \u001b[0;32mNone\u001b[0m\u001b[0;34m\u001b[0m\u001b[0;34m\u001b[0m\u001b[0m\n\u001b[0;32m-> 1442\u001b[0;31m         \u001b[0mself\u001b[0m\u001b[0;34m.\u001b[0m\u001b[0m_engine\u001b[0m \u001b[0;34m=\u001b[0m \u001b[0mself\u001b[0m\u001b[0;34m.\u001b[0m\u001b[0m_make_engine\u001b[0m\u001b[0;34m(\u001b[0m\u001b[0mf\u001b[0m\u001b[0;34m,\u001b[0m \u001b[0mself\u001b[0m\u001b[0;34m.\u001b[0m\u001b[0mengine\u001b[0m\u001b[0;34m)\u001b[0m\u001b[0;34m\u001b[0m\u001b[0;34m\u001b[0m\u001b[0m\n\u001b[0m\u001b[1;32m   1443\u001b[0m \u001b[0;34m\u001b[0m\u001b[0m\n\u001b[1;32m   1444\u001b[0m     \u001b[0;32mdef\u001b[0m \u001b[0mclose\u001b[0m\u001b[0;34m(\u001b[0m\u001b[0mself\u001b[0m\u001b[0;34m)\u001b[0m \u001b[0;34m->\u001b[0m \u001b[0;32mNone\u001b[0m\u001b[0;34m:\u001b[0m\u001b[0;34m\u001b[0m\u001b[0;34m\u001b[0m\u001b[0m\n",
            "\u001b[0;32m/usr/local/lib/python3.10/dist-packages/pandas/io/parsers/readers.py\u001b[0m in \u001b[0;36m_make_engine\u001b[0;34m(self, f, engine)\u001b[0m\n\u001b[1;32m   1733\u001b[0m                 \u001b[0;32mif\u001b[0m \u001b[0;34m\"b\"\u001b[0m \u001b[0;32mnot\u001b[0m \u001b[0;32min\u001b[0m \u001b[0mmode\u001b[0m\u001b[0;34m:\u001b[0m\u001b[0;34m\u001b[0m\u001b[0;34m\u001b[0m\u001b[0m\n\u001b[1;32m   1734\u001b[0m                     \u001b[0mmode\u001b[0m \u001b[0;34m+=\u001b[0m \u001b[0;34m\"b\"\u001b[0m\u001b[0;34m\u001b[0m\u001b[0;34m\u001b[0m\u001b[0m\n\u001b[0;32m-> 1735\u001b[0;31m             self.handles = get_handle(\n\u001b[0m\u001b[1;32m   1736\u001b[0m                 \u001b[0mf\u001b[0m\u001b[0;34m,\u001b[0m\u001b[0;34m\u001b[0m\u001b[0;34m\u001b[0m\u001b[0m\n\u001b[1;32m   1737\u001b[0m                 \u001b[0mmode\u001b[0m\u001b[0;34m,\u001b[0m\u001b[0;34m\u001b[0m\u001b[0;34m\u001b[0m\u001b[0m\n",
            "\u001b[0;32m/usr/local/lib/python3.10/dist-packages/pandas/io/common.py\u001b[0m in \u001b[0;36mget_handle\u001b[0;34m(path_or_buf, mode, encoding, compression, memory_map, is_text, errors, storage_options)\u001b[0m\n\u001b[1;32m    854\u001b[0m         \u001b[0;32mif\u001b[0m \u001b[0mioargs\u001b[0m\u001b[0;34m.\u001b[0m\u001b[0mencoding\u001b[0m \u001b[0;32mand\u001b[0m \u001b[0;34m\"b\"\u001b[0m \u001b[0;32mnot\u001b[0m \u001b[0;32min\u001b[0m \u001b[0mioargs\u001b[0m\u001b[0;34m.\u001b[0m\u001b[0mmode\u001b[0m\u001b[0;34m:\u001b[0m\u001b[0;34m\u001b[0m\u001b[0;34m\u001b[0m\u001b[0m\n\u001b[1;32m    855\u001b[0m             \u001b[0;31m# Encoding\u001b[0m\u001b[0;34m\u001b[0m\u001b[0;34m\u001b[0m\u001b[0m\n\u001b[0;32m--> 856\u001b[0;31m             handle = open(\n\u001b[0m\u001b[1;32m    857\u001b[0m                 \u001b[0mhandle\u001b[0m\u001b[0;34m,\u001b[0m\u001b[0;34m\u001b[0m\u001b[0;34m\u001b[0m\u001b[0m\n\u001b[1;32m    858\u001b[0m                 \u001b[0mioargs\u001b[0m\u001b[0;34m.\u001b[0m\u001b[0mmode\u001b[0m\u001b[0;34m,\u001b[0m\u001b[0;34m\u001b[0m\u001b[0;34m\u001b[0m\u001b[0m\n",
            "\u001b[0;31mFileNotFoundError\u001b[0m: [Errno 2] No such file or directory: '2011_2012.csv'"
          ]
        }
      ]
    },
    {
      "cell_type": "code",
      "source": [
        "print(data.shape)"
      ],
      "metadata": {
        "colab": {
          "base_uri": "https://localhost:8080/",
          "height": 165
        },
        "id": "QmRIpn6-TTIM",
        "outputId": "06eab1b1-bbc4-4ca6-d062-fdbd915a79a1"
      },
      "execution_count": 3,
      "outputs": [
        {
          "output_type": "error",
          "ename": "NameError",
          "evalue": "ignored",
          "traceback": [
            "\u001b[0;31m---------------------------------------------------------------------------\u001b[0m",
            "\u001b[0;31mNameError\u001b[0m                                 Traceback (most recent call last)",
            "\u001b[0;32m<ipython-input-3-25a56bb3f532>\u001b[0m in \u001b[0;36m<cell line: 1>\u001b[0;34m()\u001b[0m\n\u001b[0;32m----> 1\u001b[0;31m \u001b[0mprint\u001b[0m\u001b[0;34m(\u001b[0m\u001b[0mdata\u001b[0m\u001b[0;34m.\u001b[0m\u001b[0mshape\u001b[0m\u001b[0;34m)\u001b[0m\u001b[0;34m\u001b[0m\u001b[0;34m\u001b[0m\u001b[0m\n\u001b[0m",
            "\u001b[0;31mNameError\u001b[0m: name 'data' is not defined"
          ]
        }
      ]
    },
    {
      "cell_type": "code",
      "source": [
        "import pandas as pd\n",
        "\n",
        "# Мой DataFrame\n",
        "df = pd.DataFrame(data)  # Код для создания DataFrame\n",
        "\n",
        "# Список столбцов, которые нужно оставить\n",
        "columns_to_keep = ['Date',\t'HomeTeam',\t'AwayTeam',\t'FTHG',\t'FTAG',\t'FTR',\t'HTHG',\t'HTAG',\t'HTR',\t'HS',\t'AS',\t'HST',\t'AST',\n",
        "                   'HF',\t'AF',\t'HC',\t'AC',\t'HY',\t'AY',\t'HR',\t'AR']  # Столбцы которые нужно оставить\n",
        "\n",
        "# Удаление всех столбцов, кроме указанных\n",
        "df = df.drop(columns=df.columns.difference(columns_to_keep))\n",
        "\n",
        "# Вывод обновленной таблицы\n",
        "print(df)\n",
        "\n"
      ],
      "metadata": {
        "colab": {
          "base_uri": "https://localhost:8080/",
          "height": 235
        },
        "id": "gpa20vzMYEBd",
        "outputId": "d1a64df1-5016-419f-d442-cb7d5145c7ac"
      },
      "execution_count": 4,
      "outputs": [
        {
          "output_type": "error",
          "ename": "NameError",
          "evalue": "ignored",
          "traceback": [
            "\u001b[0;31m---------------------------------------------------------------------------\u001b[0m",
            "\u001b[0;31mNameError\u001b[0m                                 Traceback (most recent call last)",
            "\u001b[0;32m<ipython-input-4-e751edfb0aff>\u001b[0m in \u001b[0;36m<cell line: 4>\u001b[0;34m()\u001b[0m\n\u001b[1;32m      2\u001b[0m \u001b[0;34m\u001b[0m\u001b[0m\n\u001b[1;32m      3\u001b[0m \u001b[0;31m# Мой DataFrame\u001b[0m\u001b[0;34m\u001b[0m\u001b[0;34m\u001b[0m\u001b[0m\n\u001b[0;32m----> 4\u001b[0;31m \u001b[0mdf\u001b[0m \u001b[0;34m=\u001b[0m \u001b[0mpd\u001b[0m\u001b[0;34m.\u001b[0m\u001b[0mDataFrame\u001b[0m\u001b[0;34m(\u001b[0m\u001b[0mdata\u001b[0m\u001b[0;34m)\u001b[0m  \u001b[0;31m# Код для создания DataFrame\u001b[0m\u001b[0;34m\u001b[0m\u001b[0;34m\u001b[0m\u001b[0m\n\u001b[0m\u001b[1;32m      5\u001b[0m \u001b[0;34m\u001b[0m\u001b[0m\n\u001b[1;32m      6\u001b[0m \u001b[0;31m# Список столбцов, которые нужно оставить\u001b[0m\u001b[0;34m\u001b[0m\u001b[0;34m\u001b[0m\u001b[0m\n",
            "\u001b[0;31mNameError\u001b[0m: name 'data' is not defined"
          ]
        }
      ]
    },
    {
      "cell_type": "code",
      "source": [
        "\n",
        "data1 = pd.read_csv(\"2011_2012.csv\", encoding = 'cp1251', delimiter=',')\n",
        "data2 = pd.read_csv(\"2012_2013.csv\", encoding = 'cp1251', delimiter=',')\n",
        "data3 = pd.read_csv(\"2021_2022.csv\", encoding = 'cp1251', delimiter=',')\n",
        "\n",
        "  # Мой DataFrame\n",
        "df1 = pd.DataFrame(data1)  # Код для создания DataFrame\n",
        "df2 = pd.DataFrame(data2)\n",
        "df3 = pd.DataFrame(data3)\n",
        "\n",
        "  # Список столбцов, которые нужно оставить\n",
        "columns_to_keep = ['Date',\t'HomeTeam',\t'AwayTeam',\t'FTHG',\t'FTAG',\t'FTR',\t'HTHG',\t'HTAG',\t'HTR',\t'HS',\t'AS',\t'HST',\t'AST',\n",
        "                   'HF',\t'AF',\t'HC',\t'AC',\t'HY',\t'AY',\t'HR',\t'AR']  # Столбцы которые нужно оставить\n",
        "\n",
        "  # Удаление всех столбцов, кроме указанных\n",
        "df1 = df1.drop(columns=df1.columns.difference(columns_to_keep))\n",
        "df2 = df2.drop(columns=df2.columns.difference(columns_to_keep))\n",
        "df3 = df3.drop(columns=df3.columns.difference(columns_to_keep))\n",
        "\n",
        "print(df1.shape)\n",
        "print(df2.shape)\n",
        "print(df3.shape)\n",
        "  # Объединение столбцов\n",
        "# df = df1.join(df2)\n",
        "# df = df.join(df3)\n",
        "\n"
      ],
      "metadata": {
        "colab": {
          "base_uri": "https://localhost:8080/"
        },
        "id": "IQ7gLzpvfE4_",
        "outputId": "fa3965a0-5c50-43a3-b43e-25896ee09e45"
      },
      "execution_count": 5,
      "outputs": [
        {
          "output_type": "stream",
          "name": "stdout",
          "text": [
            "(380, 21)\n",
            "(383, 21)\n",
            "(380, 21)\n"
          ]
        }
      ]
    },
    {
      "cell_type": "code",
      "source": [
        "print(df1.head())"
      ],
      "metadata": {
        "colab": {
          "base_uri": "https://localhost:8080/"
        },
        "id": "IS-iAJHfL6n1",
        "outputId": "1438cec8-42f0-4542-8205-d664063c553c"
      },
      "execution_count": 6,
      "outputs": [
        {
          "output_type": "stream",
          "name": "stdout",
          "text": [
            "       Date    HomeTeam AwayTeam  FTHG  FTAG FTR  HTHG  HTAG HTR  HS  ...  \\\n",
            "0  09/09/11       Milan    Lazio     2     2   D     2     2   D  18  ...   \n",
            "1  10/09/11      Cesena   Napoli     1     3   A     1     1   D  11  ...   \n",
            "2  11/09/11     Catania    Siena     0     0   D     0     0   D   9  ...   \n",
            "3  11/09/11      Chievo   Novara     2     2   D     2     1   H  11  ...   \n",
            "4  11/09/11  Fiorentina  Bologna     2     0   H     1     0   H  15  ...   \n",
            "\n",
            "   HST  AST  HF  AF  HC  AC  HY  AY  HR  AR  \n",
            "0    8    5  16  15   3   1   2   2   0   0  \n",
            "1    3    6  14  12   4   6   2   3   1   0  \n",
            "2    1    2  14  25   4   4   2   4   0   0  \n",
            "3    4    4  20  17   0   6   1   1   1   0  \n",
            "4    7    2  22  12  12   1   1   1   0   0  \n",
            "\n",
            "[5 rows x 21 columns]\n"
          ]
        }
      ]
    },
    {
      "cell_type": "code",
      "source": [
        "print(df2.head())"
      ],
      "metadata": {
        "colab": {
          "base_uri": "https://localhost:8080/"
        },
        "id": "gvm1X-N8MDUt",
        "outputId": "073500ce-4fdd-414f-a9f9-4c377deac338"
      },
      "execution_count": 7,
      "outputs": [
        {
          "output_type": "stream",
          "name": "stdout",
          "text": [
            "       Date    HomeTeam  AwayTeam  FTHG  FTAG FTR  HTHG  HTAG HTR    HS  ...  \\\n",
            "0  25/08/12  Fiorentina   Udinese   2.0   1.0   H   0.0   1.0   A  23.0  ...   \n",
            "1  25/08/12    Juventus     Parma   2.0   0.0   H   0.0   0.0   D  15.0  ...   \n",
            "2  26/08/12    Atalanta     Lazio   0.0   1.0   A   0.0   1.0   A  10.0  ...   \n",
            "3  26/08/12      Chievo   Bologna   2.0   0.0   H   0.0   0.0   D   6.0  ...   \n",
            "4  26/08/12       Genoa  Cagliari   2.0   0.0   H   0.0   0.0   D  15.0  ...   \n",
            "\n",
            "   HST  AST    HF    AF    HC   AC   HY   AY   HR   AR  \n",
            "0  8.0  2.0  12.0  14.0  10.0  0.0  2.0  1.0  0.0  0.0  \n",
            "1  6.0  5.0  12.0  21.0   5.0  8.0  2.0  6.0  0.0  0.0  \n",
            "2  3.0  4.0  14.0  19.0   8.0  5.0  1.0  4.0  0.0  0.0  \n",
            "3  3.0  1.0  17.0  18.0   1.0  1.0  3.0  3.0  0.0  1.0  \n",
            "4  4.0  4.0  19.0  12.0   3.0  6.0  0.0  3.0  0.0  0.0  \n",
            "\n",
            "[5 rows x 21 columns]\n"
          ]
        }
      ]
    },
    {
      "cell_type": "code",
      "source": [
        "print(df3.head())"
      ],
      "metadata": {
        "colab": {
          "base_uri": "https://localhost:8080/"
        },
        "id": "w1Cab0C3PXel",
        "outputId": "5591d78f-0519-4988-f27f-fa2d587f0859"
      },
      "execution_count": 8,
      "outputs": [
        {
          "output_type": "stream",
          "name": "stdout",
          "text": [
            "         Date HomeTeam     AwayTeam  FTHG  FTAG FTR  HTHG  HTAG HTR  HS  ...  \\\n",
            "0  21/08/2021    Inter        Genoa     4     0   H     2     0   H  17  ...   \n",
            "1  21/08/2021   Verona     Sassuolo     2     3   A     0     1   A  12  ...   \n",
            "2  21/08/2021   Empoli        Lazio     1     3   A     1     3   A  16  ...   \n",
            "3  21/08/2021   Torino     Atalanta     1     2   A     0     1   A  19  ...   \n",
            "4  22/08/2021  Bologna  Salernitana     3     2   H     0     0   D  18  ...   \n",
            "\n",
            "   HST  AST  HF  AF  HC  AC  HY  AY  HR  AR  \n",
            "0    8    5  18   7   8   2   1   2   0   0  \n",
            "1    4    8  11  12   7   4   3   2   1   0  \n",
            "2    5    5  13  10   5   3   2   1   0   0  \n",
            "3    8    2  17  13   5   1   2   2   0   0  \n",
            "4    7    4  13  15   9   4   6   3   2   1  \n",
            "\n",
            "[5 rows x 21 columns]\n"
          ]
        }
      ]
    },
    {
      "cell_type": "code",
      "source": [
        "# Объединение столбцов\n",
        "df = df1.merge(df2, on = 'Date', how = 'left')\n",
        "# df = df.join(df3)\n",
        "print(df.shape)\n"
      ],
      "metadata": {
        "colab": {
          "base_uri": "https://localhost:8080/"
        },
        "id": "UMYZrstAQi_0",
        "outputId": "fb4d2ab4-b972-42d0-a343-50bdb8e23bbb"
      },
      "execution_count": 16,
      "outputs": [
        {
          "output_type": "stream",
          "name": "stdout",
          "text": [
            "(380, 41)\n",
            "       Date  HomeTeam_x AwayTeam_x  FTHG_x  FTAG_x FTR_x  HTHG_x  HTAG_x  \\\n",
            "0  09/09/11       Milan      Lazio       2       2     D       2       2   \n",
            "1  10/09/11      Cesena     Napoli       1       3     A       1       1   \n",
            "2  11/09/11     Catania      Siena       0       0     D       0       0   \n",
            "3  11/09/11      Chievo     Novara       2       2     D       2       1   \n",
            "4  11/09/11  Fiorentina    Bologna       2       0     H       1       0   \n",
            "\n",
            "  HTR_x  HS_x  ...  HST_y  AST_y  HF_y  AF_y  HC_y  AC_y  HY_y  AY_y  HR_y  \\\n",
            "0     D    18  ...    NaN    NaN   NaN   NaN   NaN   NaN   NaN   NaN   NaN   \n",
            "1     D    11  ...    NaN    NaN   NaN   NaN   NaN   NaN   NaN   NaN   NaN   \n",
            "2     D     9  ...    NaN    NaN   NaN   NaN   NaN   NaN   NaN   NaN   NaN   \n",
            "3     H    11  ...    NaN    NaN   NaN   NaN   NaN   NaN   NaN   NaN   NaN   \n",
            "4     H    15  ...    NaN    NaN   NaN   NaN   NaN   NaN   NaN   NaN   NaN   \n",
            "\n",
            "   AR_y  \n",
            "0   NaN  \n",
            "1   NaN  \n",
            "2   NaN  \n",
            "3   NaN  \n",
            "4   NaN  \n",
            "\n",
            "[5 rows x 41 columns]\n"
          ]
        }
      ]
    }
  ]
}