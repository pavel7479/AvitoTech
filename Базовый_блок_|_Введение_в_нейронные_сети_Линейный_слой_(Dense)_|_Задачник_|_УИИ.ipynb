{
  "nbformat": 4,
  "nbformat_minor": 0,
  "metadata": {
    "colab": {
      "provenance": [],
      "collapsed_sections": [
        "u7Dvld9kpnvH",
        "1CJeuRirtvt_",
        "OcqOD2abvksu",
        "LkBkvdxuwJ7y",
        "YWG8hQyj2dTi",
        "MGOS4g-p1eRV",
        "n4snerSr209g",
        "uryGjRmr3CPE",
        "mt3nT2qY53eE",
        "TE36GYFZyJB-",
        "KbQcaHXMzV_I",
        "u6-HfKSgz8jx",
        "goTY898kX6e_",
        "UNzFJznlYwbv",
        "Haw2xprEZAa0",
        "BRVl80e7Zo-D",
        "FjZOffgNwXNR",
        "b8Q93L8AwjZp",
        "IQvpehkzxG6d",
        "_HLmzbEdxrvB",
        "UB5uNqevyOE0",
        "HxhNmjtlyeS_",
        "qd6x4f2x4hz8",
        "b3DPRDtZ46u7",
        "31cbeZ-A5L3N",
        "2JCukW1B5gwT",
        "_jBJeNRq_uIt",
        "-E9fjZkP_uIx",
        "29rDPPX8A8_b",
        "hh4mtCZsA9AC",
        "AgI7C4dPDcFj",
        "JeyYni5HDcGJ",
        "cKqC4WGWEDFj",
        "xLQcMP_cEDFm"
      ],
      "include_colab_link": true
    },
    "kernelspec": {
      "name": "python3",
      "display_name": "Python 3"
    },
    "language_info": {
      "name": "python"
    }
  },
  "cells": [
    {
      "cell_type": "markdown",
      "metadata": {
        "id": "view-in-github",
        "colab_type": "text"
      },
      "source": [
        "<a href=\"https://colab.research.google.com/github/pavel7479/AvitoTech/blob/master/%D0%91%D0%B0%D0%B7%D0%BE%D0%B2%D1%8B%D0%B9_%D0%B1%D0%BB%D0%BE%D0%BA_%7C_%D0%92%D0%B2%D0%B5%D0%B4%D0%B5%D0%BD%D0%B8%D0%B5_%D0%B2_%D0%BD%D0%B5%D0%B9%D1%80%D0%BE%D0%BD%D0%BD%D1%8B%D0%B5_%D1%81%D0%B5%D1%82%D0%B8_%D0%9B%D0%B8%D0%BD%D0%B5%D0%B9%D0%BD%D1%8B%D0%B9_%D1%81%D0%BB%D0%BE%D0%B9_(Dense)_%7C_%D0%97%D0%B0%D0%B4%D0%B0%D1%87%D0%BD%D0%B8%D0%BA_%7C_%D0%A3%D0%98%D0%98.ipynb\" target=\"_parent\"><img src=\"https://colab.research.google.com/assets/colab-badge.svg\" alt=\"Open In Colab\"/></a>"
      ]
    },
    {
      "cell_type": "markdown",
      "metadata": {
        "id": "nLiTE0PWZLzx"
      },
      "source": [
        "В задчнике к этому занятию вам предстоит решить абстрактные задания без привязки к конкретной базе"
      ]
    },
    {
      "cell_type": "markdown",
      "metadata": {
        "id": "u7Dvld9kpnvH"
      },
      "source": [
        "### Задание 1"
      ]
    },
    {
      "cell_type": "markdown",
      "metadata": {
        "id": "odwxIzlJptYF"
      },
      "source": [
        "Задана модель нейронной сети следующей структуры:\n",
        "- input_dim = 3 - размерность входных данных\n",
        "- Dense(3) - первый полносвязный слой с тремя нейронами\n",
        "- Dense(1) - второй полносвязный слой с одним нейроном.\n",
        "\n",
        "Создайте модель заданной структуры, для этого:\n",
        "- импортируйте библиотеку для создания модели\n",
        "- импортируйте библиотеку для создания необходимых слоев \n",
        "- создайте модель полносвязной сети\n",
        "- добавьте заданные слои в модель.\n",
        "\n",
        "Выведите структуру модели с помощью функции `.summary()`.\n",
        "\n",
        "Выведите веса модели с помощью функции `.get_weights()`."
      ]
    },
    {
      "cell_type": "code",
      "metadata": {
        "id": "lN80JUC8tmLt"
      },
      "source": [
        "# Ваше решение\n"
      ],
      "execution_count": null,
      "outputs": []
    },
    {
      "cell_type": "markdown",
      "metadata": {
        "id": "kggZK9NNtopa"
      },
      "source": [
        "#### Решение"
      ]
    },
    {
      "cell_type": "code",
      "metadata": {
        "id": "2-hP3A4NsTlm"
      },
      "source": [
        "# Импорт библиотеки для создания нейронной сети прямого распространения\n",
        "from tensorflow.keras.models import Sequential\n",
        "# Импорт библиотеки для создания полносвязного слоя\n",
        "from tensorflow.keras.layers import Dense "
      ],
      "execution_count": null,
      "outputs": []
    },
    {
      "cell_type": "code",
      "metadata": {
        "colab": {
          "base_uri": "https://localhost:8080/"
        },
        "id": "Y8C-P4MHrQZ-",
        "outputId": "21be7407-d001-40d4-ef09-36c6d6a9ce1b"
      },
      "source": [
        "# Создание сети прямого распространения\n",
        "model = Sequential()\n",
        "# Создание полносвязного слоя с количеством нейронов 12\n",
        "model.add(Dense(3, input_dim = 3))\n",
        "# Создание полносвязного слоя с количеством нейронов 1\n",
        "model.add(Dense(1))\n",
        "# Вывод структуры модели\n",
        "model.summary()"
      ],
      "execution_count": null,
      "outputs": [
        {
          "output_type": "stream",
          "text": [
            "Model: \"sequential_3\"\n",
            "_________________________________________________________________\n",
            "Layer (type)                 Output Shape              Param #   \n",
            "=================================================================\n",
            "dense_8 (Dense)              (None, 3)                 12        \n",
            "_________________________________________________________________\n",
            "dense_9 (Dense)              (None, 1)                 4         \n",
            "=================================================================\n",
            "Total params: 16\n",
            "Trainable params: 16\n",
            "Non-trainable params: 0\n",
            "_________________________________________________________________\n"
          ],
          "name": "stdout"
        }
      ]
    },
    {
      "cell_type": "code",
      "metadata": {
        "colab": {
          "base_uri": "https://localhost:8080/"
        },
        "id": "_7hGi4IbpVj4",
        "outputId": "f5026d7e-d134-4104-a6fc-77d645aa3317"
      },
      "source": [
        "# Сохранение весов модели в параметр weights\n",
        "weights = model.get_weights()\n",
        "# Вывод весов модели\n",
        "print(weights)"
      ],
      "execution_count": null,
      "outputs": [
        {
          "output_type": "stream",
          "text": [
            "[array([[-0.77312374,  0.23500085,  0.17338228],\n",
            "       [-0.7885294 ,  0.370373  , -0.11334586],\n",
            "       [-0.7885206 ,  0.11244631,  0.07883596]], dtype=float32), array([0., 0., 0.], dtype=float32), array([[-0.572631  ],\n",
            "       [-0.5127957 ],\n",
            "       [-0.27296543]], dtype=float32), array([0.], dtype=float32)]\n"
          ],
          "name": "stdout"
        }
      ]
    },
    {
      "cell_type": "markdown",
      "metadata": {
        "id": "2jwwXFUgZKvQ"
      },
      "source": []
    },
    {
      "cell_type": "markdown",
      "metadata": {
        "id": "1CJeuRirtvt_"
      },
      "source": [
        "### Задание 2"
      ]
    },
    {
      "cell_type": "markdown",
      "metadata": {
        "id": "2ludFVl3tz7W"
      },
      "source": [
        "Создайте такую же нейронную сеть, как в первом задании, отключив нейрон смещения - параметр `use_bias=False`, используемый при создании полносвязного слоя. Выведите структуру модели и веса. Посмотрите, что изменилось. "
      ]
    },
    {
      "cell_type": "code",
      "metadata": {
        "id": "CZohvG8cvoHe"
      },
      "source": [
        "# Ваше решение\n"
      ],
      "execution_count": null,
      "outputs": []
    },
    {
      "cell_type": "markdown",
      "metadata": {
        "id": "OcqOD2abvksu"
      },
      "source": [
        "#### Решение"
      ]
    },
    {
      "cell_type": "code",
      "metadata": {
        "colab": {
          "base_uri": "https://localhost:8080/"
        },
        "id": "XwB6lRX0uunX",
        "outputId": "7f84d422-4824-4166-cf53-04fe2853fa4e"
      },
      "source": [
        "# Создание сети прямого распространения\n",
        "model = Sequential()\n",
        "# Создание полносвязного слоя с количеством нейронов 12\n",
        "model.add(Dense(3, input_dim = 3, use_bias=False))\n",
        "# Создание полносвязного слоя с количеством нейронов 1\n",
        "model.add(Dense(1, use_bias=False))\n",
        "# Вывод структуры модели\n",
        "model.summary()"
      ],
      "execution_count": null,
      "outputs": [
        {
          "output_type": "stream",
          "text": [
            "Model: \"sequential_1\"\n",
            "_________________________________________________________________\n",
            "Layer (type)                 Output Shape              Param #   \n",
            "=================================================================\n",
            "dense_2 (Dense)              (None, 3)                 9         \n",
            "_________________________________________________________________\n",
            "dense_3 (Dense)              (None, 1)                 3         \n",
            "=================================================================\n",
            "Total params: 12\n",
            "Trainable params: 12\n",
            "Non-trainable params: 0\n",
            "_________________________________________________________________\n"
          ],
          "name": "stdout"
        }
      ]
    },
    {
      "cell_type": "code",
      "metadata": {
        "colab": {
          "base_uri": "https://localhost:8080/"
        },
        "id": "f4oxO00OvYxy",
        "outputId": "8ea3cae7-78a1-471d-beeb-171e694abda8"
      },
      "source": [
        "# Сохранение весов модели в параметр weights\n",
        "weights = model.get_weights()\n",
        "# Вывод весов модели\n",
        "print(weights)"
      ],
      "execution_count": null,
      "outputs": [
        {
          "output_type": "stream",
          "text": [
            "[array([[-0.32989883,  0.7267878 ,  0.29161382],\n",
            "       [-0.75356364, -0.69274974, -0.21075511],\n",
            "       [ 0.00287604, -0.62670755,  0.83272624]], dtype=float32), array([[-0.5022355],\n",
            "       [ 1.1770138],\n",
            "       [ 0.6516967]], dtype=float32)]\n"
          ],
          "name": "stdout"
        }
      ]
    },
    {
      "cell_type": "markdown",
      "metadata": {
        "id": "ko6tMk3APdfN"
      },
      "source": [
        "Уменьшилось количество праметров сети."
      ]
    },
    {
      "cell_type": "markdown",
      "metadata": {
        "id": "LkBkvdxuwJ7y"
      },
      "source": [
        "### Задание 3"
      ]
    },
    {
      "cell_type": "markdown",
      "metadata": {
        "id": "NDNu5itWwNrl"
      },
      "source": [
        "Создайте набор числовых данных размерностью (1, 3) для обучения нейронной сети.\n",
        "- импортируйте библиотеку для работы с массивами\n",
        "- задайте три числовых значения\n",
        "- с помощью функции `.array()` создайте массив из трёх заданных значений\n",
        "- с помощью функции `.expand_dims()` получите требуемую размерность входных данных -  (1, 3)\n",
        "- выведите размерность получившегося массива с помощью метода .shape"
      ]
    },
    {
      "cell_type": "code",
      "metadata": {
        "id": "OZgXCBeF2bdr"
      },
      "source": [
        "# Ваше решение\n"
      ],
      "execution_count": null,
      "outputs": []
    },
    {
      "cell_type": "markdown",
      "metadata": {
        "id": "YWG8hQyj2dTi"
      },
      "source": [
        "#### Решение"
      ]
    },
    {
      "cell_type": "code",
      "metadata": {
        "id": "PpLN1Rt60c5P"
      },
      "source": [
        "# Импорт библиотеки для работы с массивами\n",
        "import numpy as np"
      ],
      "execution_count": null,
      "outputs": []
    },
    {
      "cell_type": "code",
      "metadata": {
        "colab": {
          "base_uri": "https://localhost:8080/"
        },
        "id": "3F1a9I_Q0C3t",
        "outputId": "b7093242-96cf-488e-f471-e998b20e2329"
      },
      "source": [
        "# Создание трёх переменных с произвольными числовыми значениями\n",
        "x1 = 4.5\n",
        "x2 = 8\n",
        "x3 = 6.3\n",
        "# Создание массива из трёх заданных значений\n",
        "vec = np.array([x1, x2, x3])\n",
        "# Получение требуемой размерности входных данных\n",
        "x_train = np.expand_dims(vec, 0)\n",
        "# Вывод размерности получившегося массива\n",
        "x_train.shape"
      ],
      "execution_count": null,
      "outputs": [
        {
          "output_type": "execute_result",
          "data": {
            "text/plain": [
              "(1, 3)"
            ]
          },
          "metadata": {
            "tags": []
          },
          "execution_count": 11
        }
      ]
    },
    {
      "cell_type": "markdown",
      "metadata": {
        "id": "MGOS4g-p1eRV"
      },
      "source": [
        "### Задание 4"
      ]
    },
    {
      "cell_type": "markdown",
      "metadata": {
        "id": "fFtgACMC1ivn"
      },
      "source": [
        "С помощью функции `.predict()` получите значение выхода сети, передав на вход вектор из трёх элементов, полученный в предыдущем задании."
      ]
    },
    {
      "cell_type": "code",
      "metadata": {
        "id": "kqF_4JBx2-uP"
      },
      "source": [
        "# Ваше решение\n"
      ],
      "execution_count": null,
      "outputs": []
    },
    {
      "cell_type": "markdown",
      "metadata": {
        "id": "n4snerSr209g"
      },
      "source": [
        "#### Решение"
      ]
    },
    {
      "cell_type": "code",
      "metadata": {
        "colab": {
          "base_uri": "https://localhost:8080/"
        },
        "id": "s1Rhe3eP2aat",
        "outputId": "c7205f98-48f4-49e8-aed7-63c73719e009"
      },
      "source": [
        "# Сохранение выхода сети, полученного с помощью .predict(), в параметр y_linear\n",
        "y_linear = model.predict(x_train)\n",
        "# Вывод значения выхода сети\n",
        "print(y_linear)"
      ],
      "execution_count": null,
      "outputs": [
        {
          "output_type": "stream",
          "text": [
            "[[-0.3811381]]\n"
          ],
          "name": "stdout"
        }
      ]
    },
    {
      "cell_type": "markdown",
      "metadata": {
        "id": "uryGjRmr3CPE"
      },
      "source": [
        "### Задание 5"
      ]
    },
    {
      "cell_type": "markdown",
      "metadata": {
        "id": "88ROcQuQ3N19"
      },
      "source": [
        "Самостоятельно посчитайте выход сети, воспользовавшись массивом, полученным в задании 2, используя правила матричного перемножения."
      ]
    },
    {
      "cell_type": "markdown",
      "metadata": {
        "id": "xm2tb4m7SN86"
      },
      "source": [
        "![image.png](data:image/png;base64,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)"
      ]
    },
    {
      "cell_type": "code",
      "metadata": {
        "id": "M12Aodcs503G"
      },
      "source": [
        "# Ваше решение\n"
      ],
      "execution_count": null,
      "outputs": []
    },
    {
      "cell_type": "markdown",
      "metadata": {
        "id": "mt3nT2qY53eE"
      },
      "source": [
        "#### Решение"
      ]
    },
    {
      "cell_type": "code",
      "metadata": {
        "colab": {
          "base_uri": "https://localhost:8080/"
        },
        "id": "WAFZW3-93pVg",
        "outputId": "88266a3a-3a8e-484e-88c3-7258516e1862"
      },
      "source": [
        "# Расчет значений нейронов скрытого слоя\n",
        "N1 = x1 * weights[0][0, 0] + x2 * weights[0][1, 0] + x3 * weights[0][2, 0]\n",
        "N2 = x1 * weights[0][0, 1] + x2 * weights[0][1, 1] + x3 * weights[0][2, 1]\n",
        "N3 = x1 * weights[0][0, 2] + x2 * weights[0][1, 2] + x3 * weights[0][2, 2]\n",
        "# Расчет значения выхода сети\n",
        "Y_linear = N1 * weights[1][0, 0] + N2 * weights[1][1, 0] + N3 * weights[1][2, 0]\n",
        "# Вывод выхода сети\n",
        "print(Y_linear)"
      ],
      "execution_count": null,
      "outputs": [
        {
          "output_type": "stream",
          "text": [
            "-0.38113782676779184\n"
          ],
          "name": "stdout"
        }
      ]
    },
    {
      "cell_type": "markdown",
      "metadata": {
        "id": "TE36GYFZyJB-"
      },
      "source": [
        "### Задача 6"
      ]
    },
    {
      "cell_type": "markdown",
      "metadata": {
        "id": "z1mD0xgIyLxY"
      },
      "source": [
        "Создайте нейронную сеть следующей структуры:\n",
        "- размер входных данных: 8\n",
        "- полносвязный слой из 100 нейронов\n",
        "- полносвязный слой из 10 нейронов\n",
        "- полносвязный слой из 2 нейронов.\n",
        "\n",
        "Выведите `summary` модели."
      ]
    },
    {
      "cell_type": "code",
      "metadata": {
        "id": "3F91PwY9zTzY",
        "colab": {
          "base_uri": "https://localhost:8080/"
        },
        "outputId": "feebc68c-5512-43fe-9c25-c98f22aa5e2a"
      },
      "source": [
        "# Ваше решение\n",
        "from tensorflow.keras.models import Sequential\n",
        "from tensorflow.keras.layers import Dense\n",
        "\n",
        "model = Sequential()\n",
        "model.add(Dense(100, input_dim=8))\n",
        "model.add(Dense(10))\n",
        "model.add(Dense(2))\n",
        "model.summary()\n",
        "\n"
      ],
      "execution_count": 4,
      "outputs": [
        {
          "output_type": "stream",
          "name": "stdout",
          "text": [
            "Model: \"sequential_2\"\n",
            "_________________________________________________________________\n",
            " Layer (type)                Output Shape              Param #   \n",
            "=================================================================\n",
            " dense_6 (Dense)             (None, 100)               900       \n",
            "                                                                 \n",
            " dense_7 (Dense)             (None, 10)                1010      \n",
            "                                                                 \n",
            " dense_8 (Dense)             (None, 2)                 22        \n",
            "                                                                 \n",
            "=================================================================\n",
            "Total params: 1,932\n",
            "Trainable params: 1,932\n",
            "Non-trainable params: 0\n",
            "_________________________________________________________________\n"
          ]
        }
      ]
    },
    {
      "cell_type": "markdown",
      "metadata": {
        "id": "KbQcaHXMzV_I"
      },
      "source": [
        "#### Решение"
      ]
    },
    {
      "cell_type": "code",
      "metadata": {
        "colab": {
          "base_uri": "https://localhost:8080/"
        },
        "id": "n5NehLM_zY2E",
        "outputId": "72f78563-355e-4558-e3f7-6853f161ea7f"
      },
      "source": [
        "# Создание сети прямого распространения\n",
        "model = Sequential()\n",
        "# Создание полносвязного слоя с количеством нейронов 100, входной размерностью 8\n",
        "model.add(Dense(100, input_dim=8))\n",
        "# Создание полносвязного слоя с количеством нейронов 10\n",
        "model.add(Dense(10))\n",
        "# Создание полносвязного слоя с количеством нейронов 2\n",
        "model.add(Dense(2))\n",
        "# Вывод структуры сети\n",
        "model.summary()"
      ],
      "execution_count": null,
      "outputs": [
        {
          "output_type": "stream",
          "text": [
            "Model: \"sequential_2\"\n",
            "_________________________________________________________________\n",
            "Layer (type)                 Output Shape              Param #   \n",
            "=================================================================\n",
            "dense_5 (Dense)              (None, 100)               900       \n",
            "_________________________________________________________________\n",
            "dense_6 (Dense)              (None, 10)                1010      \n",
            "_________________________________________________________________\n",
            "dense_7 (Dense)              (None, 2)                 22        \n",
            "=================================================================\n",
            "Total params: 1,932\n",
            "Trainable params: 1,932\n",
            "Non-trainable params: 0\n",
            "_________________________________________________________________\n"
          ],
          "name": "stdout"
        }
      ]
    },
    {
      "cell_type": "markdown",
      "metadata": {
        "id": "u6-HfKSgz8jx"
      },
      "source": [
        "### Задача 7"
      ]
    },
    {
      "cell_type": "markdown",
      "metadata": {
        "id": "F8F6FpH10IyU"
      },
      "source": [
        "Создайте нейронную сеть с такой же структурой, как в задаче 6, но без нейрона смещения во всех слоях.  "
      ]
    },
    {
      "cell_type": "code",
      "metadata": {
        "id": "2qu_ZzZRX3gv",
        "colab": {
          "base_uri": "https://localhost:8080/"
        },
        "outputId": "9fb5d503-e793-444c-b16e-910f97249cb5"
      },
      "source": [
        "# Ваше решение\n",
        "from tensorflow.keras.models import Sequential\n",
        "from tensorflow.keras.layers import Dense\n",
        "\n",
        "model = Sequential()\n",
        "model.add(Dense(100, use_bias = False, input_dim=8))\n",
        "model.add(Dense(10, use_bias = False))\n",
        "model.add(Dense(2, use_bias = False))\n",
        "model.summary()"
      ],
      "execution_count": 6,
      "outputs": [
        {
          "output_type": "stream",
          "name": "stdout",
          "text": [
            "Model: \"sequential_4\"\n",
            "_________________________________________________________________\n",
            " Layer (type)                Output Shape              Param #   \n",
            "=================================================================\n",
            " dense_12 (Dense)            (None, 100)               800       \n",
            "                                                                 \n",
            " dense_13 (Dense)            (None, 10)                1000      \n",
            "                                                                 \n",
            " dense_14 (Dense)            (None, 2)                 20        \n",
            "                                                                 \n",
            "=================================================================\n",
            "Total params: 1,820\n",
            "Trainable params: 1,820\n",
            "Non-trainable params: 0\n",
            "_________________________________________________________________\n"
          ]
        }
      ]
    },
    {
      "cell_type": "markdown",
      "metadata": {
        "id": "goTY898kX6e_"
      },
      "source": [
        "#### Решение"
      ]
    },
    {
      "cell_type": "code",
      "metadata": {
        "colab": {
          "base_uri": "https://localhost:8080/"
        },
        "id": "FhB0P6GfX8ys",
        "outputId": "926965fe-c148-46aa-b5f0-7a819f518b99"
      },
      "source": [
        "# Создание сети прямого распространения\n",
        "model = Sequential()\n",
        "# Создание полносвязного слоя с количеством нейронов 100, входной размерностью 8, без нейрона смещения\n",
        "model.add(Dense(100, input_dim=8, use_bias=False))\n",
        "# Создание полносвязного слоя с количеством нейронов 10, без нейрона смещения\n",
        "model.add(Dense(10, use_bias=False))\n",
        "# Создание полносвязного слоя с количеством нейронов 2, без нейрона смещения\n",
        "model.add(Dense(2, use_bias=False))\n",
        "# Вывод структуры модели\n",
        "model.summary()"
      ],
      "execution_count": null,
      "outputs": [
        {
          "output_type": "stream",
          "text": [
            "Model: \"sequential_2\"\n",
            "_________________________________________________________________\n",
            "Layer (type)                 Output Shape              Param #   \n",
            "=================================================================\n",
            "dense_5 (Dense)              (None, 100)               800       \n",
            "_________________________________________________________________\n",
            "dense_6 (Dense)              (None, 10)                1000      \n",
            "_________________________________________________________________\n",
            "dense_7 (Dense)              (None, 2)                 20        \n",
            "=================================================================\n",
            "Total params: 1,820\n",
            "Trainable params: 1,820\n",
            "Non-trainable params: 0\n",
            "_________________________________________________________________\n"
          ],
          "name": "stdout"
        }
      ]
    },
    {
      "cell_type": "markdown",
      "metadata": {
        "id": "ADhLM-ROYcrV"
      },
      "source": [
        "### Задача 8"
      ]
    },
    {
      "cell_type": "markdown",
      "metadata": {
        "id": "tqCyWHnaYfLe"
      },
      "source": [
        "Выведите веса модели из задачи 7 с помощью функции .get_weights()."
      ]
    },
    {
      "cell_type": "code",
      "metadata": {
        "id": "38GQnEt8YuZ7",
        "colab": {
          "base_uri": "https://localhost:8080/"
        },
        "outputId": "e78d8736-4411-4c7c-b27c-eede5903c9d7"
      },
      "source": [
        "# Ваше решение\n",
        "print(model.get_weights())"
      ],
      "execution_count": 7,
      "outputs": [
        {
          "output_type": "stream",
          "name": "stdout",
          "text": [
            "[array([[-7.44656771e-02,  1.40028760e-01,  1.35232374e-01,\n",
            "         7.89199322e-02, -4.90067303e-02, -5.76358140e-02,\n",
            "         8.94643813e-02, -1.40461117e-01, -1.01888433e-01,\n",
            "        -4.84331399e-02, -1.67419031e-01,  2.27321997e-01,\n",
            "        -5.85757196e-03,  1.28113821e-01, -1.85117722e-01,\n",
            "        -5.38540035e-02, -1.56797573e-01, -2.16342062e-02,\n",
            "        -6.68327063e-02, -2.21227854e-01,  1.02741718e-02,\n",
            "         1.18057981e-01, -1.23885944e-01,  1.37211367e-01,\n",
            "         1.24929622e-01, -1.73222601e-01, -5.61602265e-02,\n",
            "         1.62964910e-02, -1.79645434e-01,  3.29785049e-03,\n",
            "        -1.65072232e-01,  6.13774508e-02, -1.31254956e-01,\n",
            "         5.18910438e-02,  7.31442720e-02,  1.79362610e-01,\n",
            "         2.74693519e-02, -9.07880217e-02, -1.65255368e-03,\n",
            "        -3.79333943e-02,  2.20125571e-01,  8.96247178e-02,\n",
            "         1.94292828e-01, -2.18803734e-01, -1.86648726e-01,\n",
            "         2.04285845e-01, -1.97602242e-01, -4.48444188e-02,\n",
            "         4.82381433e-02, -6.44637793e-02, -4.79381680e-02,\n",
            "        -4.35987860e-02,  2.53575593e-02, -7.45162964e-02,\n",
            "        -4.04195040e-02,  1.30655631e-01, -8.06636214e-02,\n",
            "        -8.93816650e-02,  1.65982693e-02,  1.40864655e-01,\n",
            "         1.20252982e-01,  1.77885041e-01, -2.71725208e-02,\n",
            "        -4.22927290e-02, -6.68313056e-02,  1.85980275e-01,\n",
            "        -9.96280760e-02, -9.88302529e-02,  7.10860640e-02,\n",
            "        -8.13906789e-02, -1.58424556e-01,  1.38003722e-01,\n",
            "        -1.20998487e-01,  4.35956270e-02, -1.58358634e-01,\n",
            "        -1.11364111e-01,  2.38551050e-02,  1.18053779e-01,\n",
            "         6.06833845e-02, -5.95967174e-02, -1.67579293e-01,\n",
            "        -7.78787285e-02, -2.01592818e-01,  8.84072483e-03,\n",
            "        -2.66365856e-02,  1.17128119e-01, -1.87242657e-01,\n",
            "        -1.89691186e-02, -1.70856297e-01,  1.86140940e-01,\n",
            "         7.81714916e-05,  1.31527230e-01,  2.60840803e-02,\n",
            "         1.74609274e-02, -5.08805811e-02, -1.67396218e-01,\n",
            "        -1.56195879e-01, -9.20792371e-02,  1.54153332e-01,\n",
            "        -1.98255569e-01],\n",
            "       [ 3.84247750e-02, -7.98297822e-02,  1.95126578e-01,\n",
            "        -5.26313037e-02, -2.20012665e-02,  6.72230572e-02,\n",
            "        -8.38870108e-02, -9.99570340e-02,  1.89906016e-01,\n",
            "        -1.31965727e-02, -1.25219971e-02,  1.15896091e-01,\n",
            "         1.16373584e-01,  2.12782010e-01,  1.50932148e-01,\n",
            "         3.80776972e-02, -1.99461088e-01,  1.55339688e-02,\n",
            "        -1.17109343e-01, -1.95217788e-01,  2.18119040e-01,\n",
            "        -1.95559636e-01,  1.03344187e-01,  3.08425725e-03,\n",
            "         3.37460190e-02,  2.03814700e-01,  2.03238800e-01,\n",
            "         5.21760434e-02,  1.48388937e-01, -1.20950103e-01,\n",
            "        -1.44185439e-01, -2.65772641e-03,  1.18413582e-01,\n",
            "        -2.54557431e-02,  1.92147344e-02,  7.25200027e-02,\n",
            "         5.48686832e-02, -1.33814901e-01,  8.71197730e-02,\n",
            "        -1.00578845e-01,  6.19232804e-02, -2.15950906e-02,\n",
            "         6.39382750e-02,  1.45299569e-01, -7.52437562e-02,\n",
            "        -2.08437234e-01, -1.47306055e-01,  1.68135747e-01,\n",
            "        -8.13796669e-02,  1.15500644e-01,  1.98410854e-01,\n",
            "        -8.20360929e-02, -1.80527866e-02,  1.74851552e-01,\n",
            "        -1.81849375e-01, -6.29268140e-02,  1.61519811e-01,\n",
            "         1.84506550e-01,  1.74058661e-01,  1.86162785e-01,\n",
            "         7.03696758e-02, -1.36332870e-01, -1.88873574e-01,\n",
            "        -3.38263363e-02,  1.66585520e-01, -5.09556532e-02,\n",
            "        -1.53344840e-01,  1.04274750e-02, -3.46302092e-02,\n",
            "         1.74266651e-01,  7.46781379e-02, -5.22914827e-02,\n",
            "        -1.77043915e-01, -1.37617767e-01, -6.53142482e-02,\n",
            "        -4.03901935e-03,  2.09361956e-01, -7.02226609e-02,\n",
            "         3.15669924e-02, -1.77889884e-01,  2.28046045e-01,\n",
            "        -3.46828103e-02, -2.08306521e-01,  7.81282336e-02,\n",
            "         4.32190746e-02,  1.90963373e-01,  5.97022921e-02,\n",
            "         1.12735674e-01,  3.70174199e-02, -1.48972303e-01,\n",
            "        -1.87992811e-01,  1.19145706e-01, -1.93301737e-02,\n",
            "         2.03143939e-01, -7.08945990e-02,  7.94371516e-02,\n",
            "         8.93015712e-02, -1.51666954e-01,  2.22475573e-01,\n",
            "        -1.23077847e-01],\n",
            "       [-2.82341689e-02, -1.14412792e-01, -5.55785447e-02,\n",
            "        -2.00550839e-01, -4.41882163e-02, -1.81679443e-01,\n",
            "         1.55995950e-01,  7.64918774e-02, -1.29087269e-03,\n",
            "         2.23607570e-02, -5.34634441e-02,  1.74485877e-01,\n",
            "         1.71968088e-01, -2.17819974e-01,  2.27869198e-01,\n",
            "        -4.55553979e-02,  1.79814473e-01,  4.96058315e-02,\n",
            "        -1.69678897e-01, -8.54593068e-02,  1.89407215e-01,\n",
            "        -9.60594416e-03,  1.97809443e-01, -1.90716118e-01,\n",
            "         7.25673288e-02,  4.04052883e-02, -1.72123730e-01,\n",
            "         7.59858340e-02,  1.51740357e-01, -2.06596553e-02,\n",
            "         4.76275831e-02,  8.57112259e-02, -1.33923575e-01,\n",
            "        -1.40002221e-01, -5.20150065e-02,  2.22200826e-01,\n",
            "        -1.90243512e-01,  6.99934512e-02,  4.52590138e-02,\n",
            "         1.02626607e-01,  2.27913812e-01, -4.10831124e-02,\n",
            "        -2.01599509e-01,  1.11074299e-02,  1.52922258e-01,\n",
            "         2.30299547e-01, -1.93082541e-02, -4.54914570e-02,\n",
            "        -5.14075160e-04,  4.05765027e-02,  6.19831234e-02,\n",
            "        -3.07691097e-02, -1.22393943e-01,  1.17657647e-01,\n",
            "         1.68492481e-01,  4.14539874e-03,  1.21172294e-01,\n",
            "        -2.04371750e-01, -1.05587989e-02, -1.59729481e-01,\n",
            "        -2.43530124e-02,  6.59376234e-02, -1.07874691e-01,\n",
            "        -4.63786721e-02,  2.28002474e-01, -2.33606383e-01,\n",
            "        -2.65829116e-02,  1.85857043e-01, -2.43226141e-02,\n",
            "         5.90512902e-02, -3.77542973e-02, -1.21857822e-02,\n",
            "         7.55117089e-02, -8.20940882e-02,  1.92861900e-01,\n",
            "         1.52413547e-03,  1.88277230e-01, -2.12456867e-01,\n",
            "        -1.89373776e-01, -1.49531007e-01, -2.79066712e-02,\n",
            "         1.06495127e-01, -1.13910004e-01,  1.84406623e-01,\n",
            "         5.23245782e-02, -2.32197717e-01,  9.29373354e-02,\n",
            "        -3.99740934e-02, -1.39757246e-02, -2.34614477e-01,\n",
            "        -1.76771298e-01,  3.81007940e-02, -6.39300197e-02,\n",
            "        -1.85054615e-01, -1.20747969e-01,  1.50454357e-01,\n",
            "        -2.29126513e-02, -2.20468923e-01,  1.49507865e-01,\n",
            "        -1.38004303e-01],\n",
            "       [-1.82410836e-01,  9.79626626e-02,  2.21461907e-01,\n",
            "        -1.86272159e-01, -1.48958430e-01,  4.28011268e-02,\n",
            "        -9.18323100e-02,  1.99840471e-01,  3.63417119e-02,\n",
            "        -1.88328475e-01,  1.61977753e-01, -4.61381525e-02,\n",
            "        -4.43402231e-02,  1.70492545e-01,  2.00438842e-01,\n",
            "        -3.68637741e-02,  1.39889047e-01,  2.23796949e-01,\n",
            "        -9.72193480e-02,  6.20795041e-02, -1.02143452e-01,\n",
            "         1.89320609e-01, -4.12222594e-02, -3.35662514e-02,\n",
            "         1.32573292e-01, -1.83745533e-01, -4.27417904e-02,\n",
            "        -1.51998609e-01,  1.28907561e-02, -7.60188699e-02,\n",
            "        -9.70125496e-02, -1.05788484e-01,  5.05409688e-02,\n",
            "         1.48950741e-01,  6.71556741e-02, -2.40441561e-02,\n",
            "         1.80239245e-01,  1.73946515e-01,  9.04967636e-02,\n",
            "        -9.94631350e-02,  3.38677913e-02,  1.29585937e-01,\n",
            "        -7.25122988e-02,  8.67158920e-02,  2.22143576e-01,\n",
            "         7.58724660e-02,  9.08248127e-03, -1.88628674e-01,\n",
            "         2.26226196e-01,  2.51443535e-02, -2.24832594e-01,\n",
            "         2.25325927e-01, -1.31331593e-01, -1.28971770e-01,\n",
            "         8.69099051e-02, -1.07924595e-01,  2.31623575e-01,\n",
            "         1.79769680e-01,  7.31705278e-02,  1.89058915e-01,\n",
            "         2.04390809e-01, -2.26834178e-01, -2.58734375e-02,\n",
            "        -1.55864611e-01, -8.84752274e-02,  1.98557228e-02,\n",
            "         8.13783854e-02,  1.54467672e-02,  1.62260637e-01,\n",
            "        -3.47803086e-02, -2.01190740e-01,  1.98360309e-01,\n",
            "         1.70541391e-01,  1.26796320e-01,  4.03192490e-02,\n",
            "         7.45087117e-02, -1.89700127e-02,  8.64786357e-02,\n",
            "         1.35880664e-01, -1.28571376e-01,  4.63941693e-03,\n",
            "         4.03353721e-02,  1.37475893e-01, -4.11353856e-02,\n",
            "        -5.75853586e-02,  1.98731378e-01,  6.64729923e-02,\n",
            "        -2.16056824e-01,  1.45430520e-01,  1.15084603e-01,\n",
            "         2.08384350e-01,  2.34170809e-01,  2.03164563e-01,\n",
            "         1.90074295e-02, -4.61037010e-02,  2.31915340e-01,\n",
            "        -2.12052256e-01,  1.64747372e-01, -6.36523962e-03,\n",
            "         1.65500209e-01],\n",
            "       [ 1.80013075e-01, -2.00485080e-01, -1.73183873e-01,\n",
            "         3.31025273e-02,  6.66833371e-02,  5.27802259e-02,\n",
            "        -4.38809991e-02,  1.79525390e-01,  1.73260853e-01,\n",
            "         1.38885275e-01, -3.87907177e-02, -2.18820542e-01,\n",
            "         7.65790194e-02,  1.58571854e-01, -1.82444155e-02,\n",
            "        -2.26378426e-01,  2.05326810e-01,  9.11606103e-02,\n",
            "         1.26967773e-01, -1.59327731e-01, -1.67089671e-01,\n",
            "         1.39566943e-01,  1.30230054e-01,  9.81070250e-02,\n",
            "        -1.49134606e-01, -1.45842373e-01,  1.18422881e-01,\n",
            "         1.73010007e-01, -5.58640212e-02,  4.59309071e-02,\n",
            "         1.15919277e-01,  2.71851569e-02, -1.45207644e-02,\n",
            "        -1.37267172e-01, -1.00873426e-01, -1.54737040e-01,\n",
            "         1.97655752e-01, -9.04533714e-02,  1.92919508e-01,\n",
            "         1.72760502e-01, -1.03407517e-01,  2.21330807e-01,\n",
            "         2.04567268e-01, -2.18358040e-01,  1.83002204e-02,\n",
            "         1.31861404e-01, -8.33729804e-02,  6.48584813e-02,\n",
            "         7.32464045e-02,  1.36276558e-01, -1.18140258e-01,\n",
            "         2.03811362e-01,  2.26816520e-01,  1.66295782e-01,\n",
            "        -1.51094258e-01, -1.15598075e-01, -1.86833218e-01,\n",
            "        -6.76375479e-02, -1.78590700e-01,  1.84333846e-01,\n",
            "        -3.76379788e-02,  2.10299507e-01,  5.04669100e-02,\n",
            "        -2.32540622e-01, -1.86530605e-01, -2.04207897e-01,\n",
            "         1.01660237e-01,  2.13393494e-01,  8.81178677e-03,\n",
            "         1.54361084e-01, -3.07895690e-02, -2.09891245e-01,\n",
            "        -1.19214609e-01, -1.65590763e-01, -1.61615744e-01,\n",
            "         1.10364109e-02, -4.94684875e-02, -5.21598756e-02,\n",
            "        -1.55554473e-01, -7.82150030e-03, -1.55964077e-01,\n",
            "        -1.67406723e-01, -1.61904544e-01,  2.24699751e-01,\n",
            "        -3.20154279e-02, -2.30367482e-01,  2.30586037e-01,\n",
            "         1.31067768e-01,  5.12065738e-02,  5.97458631e-02,\n",
            "         3.65881175e-02,  1.35806814e-01, -1.62058175e-01,\n",
            "         9.34259742e-02, -1.65171087e-01,  1.40817806e-01,\n",
            "         1.75555512e-01,  1.67624250e-01, -1.35776907e-01,\n",
            "         8.55397731e-02],\n",
            "       [ 2.05327913e-01,  9.51222926e-02,  7.76575506e-03,\n",
            "         1.86845079e-01, -5.03507107e-02, -1.29022911e-01,\n",
            "         7.26730376e-02, -2.31309712e-01, -1.86149985e-01,\n",
            "         4.38554138e-02, -3.84621471e-02, -1.74300253e-01,\n",
            "         2.31407434e-02,  2.27877602e-01,  7.44176656e-02,\n",
            "        -2.54376531e-02,  8.15437585e-02, -1.25416160e-01,\n",
            "        -2.30315045e-01, -1.95116818e-01,  2.32100800e-01,\n",
            "         2.30326638e-01,  1.35434791e-01, -1.86101377e-01,\n",
            "         7.98882693e-02, -1.63368270e-01, -1.54517144e-02,\n",
            "         1.24335274e-01,  6.45763427e-02,  5.12133688e-02,\n",
            "        -1.78068131e-01, -6.18593842e-02,  1.73924431e-01,\n",
            "        -1.64541602e-03, -1.57961667e-01, -2.14760616e-01,\n",
            "        -2.23749802e-01, -1.10886693e-02,  2.25845560e-01,\n",
            "         3.61710340e-02,  8.70936662e-02,  3.39206904e-02,\n",
            "         7.71276206e-02,  8.82018358e-02, -1.11505054e-01,\n",
            "         3.07637006e-02, -1.12130903e-01,  1.39112070e-01,\n",
            "        -1.79293647e-01, -1.49755388e-01,  2.07828298e-01,\n",
            "        -1.06596351e-01, -5.89282066e-02, -1.24403447e-01,\n",
            "        -1.58125371e-01,  2.07718149e-01, -2.05477685e-01,\n",
            "        -1.99662149e-01, -1.81747720e-01, -2.22899020e-02,\n",
            "         1.44786164e-01,  1.17125258e-01, -8.80452693e-02,\n",
            "         1.53642073e-01,  9.30041075e-03,  3.90637666e-02,\n",
            "         4.57272977e-02,  8.68967921e-02, -4.58142459e-02,\n",
            "         5.80955595e-02, -2.15011537e-01,  2.04897076e-02,\n",
            "         1.39571473e-01, -3.91561687e-02, -4.26278859e-02,\n",
            "         1.38287112e-01,  2.31807336e-01,  1.06722161e-01,\n",
            "         2.20986381e-01,  2.00306490e-01, -4.52540815e-02,\n",
            "         1.77905545e-01,  1.15731046e-01, -1.17686085e-01,\n",
            "        -1.23401195e-01, -5.50596863e-02,  1.14075288e-01,\n",
            "        -5.14134169e-02,  1.07214496e-01,  1.45662263e-01,\n",
            "         1.80810139e-01, -8.34772289e-02, -1.21106610e-01,\n",
            "         2.30769068e-02, -1.29248053e-02,  2.12688074e-01,\n",
            "        -2.05075607e-01,  7.50026852e-02, -1.55361831e-01,\n",
            "         2.03292444e-01],\n",
            "       [-4.30155843e-02, -4.93327230e-02, -1.32588923e-01,\n",
            "         2.31927350e-01,  1.44543961e-01,  1.35560051e-01,\n",
            "        -6.67935461e-02, -1.79337323e-01, -1.35960728e-01,\n",
            "         2.83841044e-02,  6.68674856e-02,  1.33272782e-01,\n",
            "         6.59859031e-02,  1.42570436e-02,  2.81612426e-02,\n",
            "        -9.98480767e-02,  1.69952735e-01, -1.07631356e-01,\n",
            "         3.71275097e-02, -7.12006390e-02, -2.15482846e-01,\n",
            "         2.45819539e-02, -2.10321248e-02, -1.11917414e-01,\n",
            "        -1.19167909e-01,  6.28599972e-02,  7.64374584e-02,\n",
            "        -4.37001586e-02,  2.01972529e-01, -1.05565488e-01,\n",
            "        -1.82759970e-01,  2.32019573e-02,  1.50687858e-01,\n",
            "        -1.71463549e-01, -7.27194995e-02, -2.09729522e-02,\n",
            "        -1.81177735e-01,  4.94852811e-02, -6.67056441e-02,\n",
            "         2.81841010e-02, -1.16172902e-01, -3.24637443e-02,\n",
            "         5.58332652e-02, -2.16669306e-01, -2.24792808e-02,\n",
            "         1.57908216e-01,  2.21760020e-01, -1.41906530e-01,\n",
            "         1.78023353e-01, -8.34734142e-02, -1.35711044e-01,\n",
            "        -5.28599024e-02,  1.56178907e-01, -2.03783602e-01,\n",
            "        -8.98711234e-02,  4.62249666e-02, -1.98593706e-01,\n",
            "        -5.93263507e-02, -6.28289878e-02, -2.01621503e-02,\n",
            "        -2.07160592e-01,  1.53009593e-03, -2.32735068e-01,\n",
            "         9.42536145e-02,  1.21745214e-01, -1.09867558e-01,\n",
            "        -5.36006689e-03, -8.96020085e-02, -2.14734942e-01,\n",
            "        -1.97033942e-01,  8.67797434e-03,  9.66898650e-02,\n",
            "        -1.39613688e-01,  2.09210321e-01,  1.91203669e-01,\n",
            "        -5.21872938e-02, -2.05655769e-01, -5.32166958e-02,\n",
            "         2.08627060e-01,  2.05630884e-01,  1.35068074e-01,\n",
            "        -1.31907612e-01,  1.31235167e-01, -2.03795910e-01,\n",
            "        -1.20078452e-01, -3.27440053e-02, -8.26421380e-03,\n",
            "         5.61381429e-02, -1.52619988e-01, -1.79224923e-01,\n",
            "        -1.91407606e-01, -6.71152771e-03,  6.25741929e-02,\n",
            "         7.43536204e-02, -1.38198167e-01,  3.13718766e-02,\n",
            "        -1.63850099e-01, -1.64571464e-01, -5.20063937e-03,\n",
            "        -1.88642099e-01],\n",
            "       [ 4.71931249e-02, -1.92248747e-01,  1.95211723e-01,\n",
            "         7.75449127e-02,  1.16933897e-01, -2.74405181e-02,\n",
            "        -8.87590647e-03, -2.12117791e-01, -9.78504866e-02,\n",
            "         2.14400515e-01,  1.82550400e-02, -1.07556224e-01,\n",
            "        -7.71933794e-03,  2.19940081e-01, -1.48041815e-01,\n",
            "        -1.01780817e-01, -9.37767327e-03, -1.90815806e-01,\n",
            "         3.53099555e-02, -2.14756131e-02,  1.29713491e-01,\n",
            "         1.24427781e-01, -5.73153347e-02,  2.24888548e-01,\n",
            "         8.81226510e-02, -1.00080326e-01,  3.47114056e-02,\n",
            "        -2.03391641e-01,  6.08897060e-02, -8.48185718e-02,\n",
            "         2.08254829e-01, -2.05267519e-01, -4.90289181e-02,\n",
            "         8.79728943e-02,  1.28172055e-01, -1.83930486e-01,\n",
            "         2.06290498e-01, -9.61056054e-02, -2.04501346e-01,\n",
            "         1.51467770e-02, -5.13827354e-02, -1.20538414e-01,\n",
            "         8.08414668e-02, -1.22340105e-01, -8.62321705e-02,\n",
            "        -7.29831159e-02,  7.63797611e-02,  9.78042334e-02,\n",
            "        -1.96789309e-01,  2.99411863e-02, -1.86849684e-01,\n",
            "         5.27673513e-02, -2.31393218e-01, -6.64870441e-02,\n",
            "         1.48379669e-01,  2.85392553e-02,  1.14272580e-01,\n",
            "        -1.37022167e-01,  6.45520538e-02,  1.74905509e-02,\n",
            "         9.73250121e-02, -7.00260401e-02,  7.35889375e-03,\n",
            "         1.15224436e-01, -2.31413960e-01, -4.43630368e-02,\n",
            "         1.70329347e-01,  1.36799917e-01,  1.32619992e-01,\n",
            "        -1.30821347e-01, -1.24042839e-01,  1.48202434e-01,\n",
            "        -1.26247630e-01,  6.82668239e-02, -2.20013738e-01,\n",
            "        -1.00872919e-01, -1.93054378e-01, -1.51478857e-01,\n",
            "         5.54919988e-02, -1.87765330e-01, -1.38012499e-01,\n",
            "        -2.18943357e-02,  1.44203469e-01, -2.23872200e-01,\n",
            "        -5.51351011e-02, -1.57990277e-01, -5.49224615e-02,\n",
            "         4.36710566e-02, -1.66182786e-01, -1.93320289e-01,\n",
            "         4.04974371e-02, -1.32346004e-01, -1.96657136e-01,\n",
            "        -2.02314198e-01,  5.23303598e-02, -1.39491573e-01,\n",
            "        -1.83144689e-01, -1.26322925e-01, -7.57764876e-02,\n",
            "        -1.57077596e-01]], dtype=float32), array([[ 1.92958593e-01, -1.44959301e-01, -5.59539199e-02,\n",
            "        -1.50883645e-02,  1.90488011e-01, -1.70671582e-01,\n",
            "        -6.06399775e-03,  1.91041529e-01,  7.53161013e-02,\n",
            "        -1.22995697e-01],\n",
            "       [ 1.97128654e-01, -2.30169863e-01, -1.84347391e-01,\n",
            "        -1.82274878e-01,  1.83187127e-01, -1.58837974e-01,\n",
            "        -8.17577392e-02,  1.08271152e-01, -3.90104949e-02,\n",
            "        -2.46939957e-02],\n",
            "       [ 8.48366022e-02, -4.34743464e-02, -3.41761857e-02,\n",
            "        -1.85181558e-01, -2.06645876e-02,  1.44788027e-01,\n",
            "         1.23545915e-01,  9.23024714e-02,  9.34172273e-02,\n",
            "        -5.14464229e-02],\n",
            "       [ 2.30294079e-01, -1.17547497e-01,  2.22810298e-01,\n",
            "        -5.33601791e-02,  1.82739675e-01,  6.17194176e-02,\n",
            "        -8.73189270e-02,  5.73900938e-02,  9.49538946e-02,\n",
            "         1.33061767e-01],\n",
            "       [ 1.03566319e-01, -1.60720095e-01, -3.34338844e-02,\n",
            "         2.53287256e-02,  1.93260491e-01,  6.23769760e-02,\n",
            "        -2.15551570e-01, -1.06896609e-02, -7.01554865e-02,\n",
            "         4.22186553e-02],\n",
            "       [-1.31733969e-01, -1.28972679e-01,  2.32808828e-01,\n",
            "        -2.56760716e-02, -1.36193186e-01, -6.97202682e-02,\n",
            "        -2.22528368e-01,  4.00920212e-03, -6.95446581e-02,\n",
            "         1.75535500e-01],\n",
            "       [ 6.78198338e-02, -1.67849571e-01,  2.19178021e-01,\n",
            "        -8.07378590e-02,  2.15500236e-01,  1.00728750e-01,\n",
            "         1.99228883e-01,  1.71669424e-02, -2.09717304e-02,\n",
            "        -1.65288895e-01],\n",
            "       [-6.90809339e-02,  1.51125163e-01,  1.01465315e-01,\n",
            "        -1.82036728e-01, -1.91457272e-01, -1.20099925e-01,\n",
            "         2.19273269e-01,  5.61189055e-02, -1.66104943e-01,\n",
            "         1.72994941e-01],\n",
            "       [ 3.76625359e-03, -1.40641242e-01,  2.23896652e-01,\n",
            "        -1.96150303e-01,  1.23040289e-01,  1.47322297e-01,\n",
            "        -6.32137060e-02, -1.52614444e-01, -1.44448251e-01,\n",
            "        -1.43098831e-03],\n",
            "       [ 1.15055919e-01, -4.37149554e-02,  2.16859430e-01,\n",
            "         5.13043106e-02, -1.70644850e-01,  2.28856325e-01,\n",
            "         3.26088965e-02,  1.02039844e-01,  1.88268840e-01,\n",
            "         2.25730240e-01],\n",
            "       [ 1.85747564e-01, -1.08557150e-01,  2.21129954e-01,\n",
            "         8.11256766e-02, -7.70390332e-02, -1.16176754e-02,\n",
            "         1.33219361e-01, -1.27311110e-01,  1.48518324e-01,\n",
            "        -1.89590290e-01],\n",
            "       [ 2.22155571e-01, -3.38850766e-02, -1.93921447e-01,\n",
            "         1.80173367e-01,  1.36953533e-01, -1.56030953e-02,\n",
            "        -2.03739464e-01, -4.58792150e-02,  1.03255779e-01,\n",
            "         2.33308583e-01],\n",
            "       [-4.43589687e-02,  1.28122181e-01, -2.20408440e-02,\n",
            "         1.40796363e-01, -1.66409135e-01,  3.81161273e-02,\n",
            "        -1.10650480e-01, -4.52921540e-02, -1.38764828e-02,\n",
            "         1.69115365e-02],\n",
            "       [-9.54009145e-02, -1.64485008e-01, -1.93064094e-01,\n",
            "        -1.82317317e-01, -5.03428429e-02,  7.37732947e-02,\n",
            "         1.51317090e-01, -2.43635178e-02, -1.85460925e-01,\n",
            "        -1.15740597e-01],\n",
            "       [-6.29985482e-02, -1.19166963e-01,  1.61336124e-01,\n",
            "         2.25007355e-01,  6.99262321e-03, -1.18967563e-01,\n",
            "        -1.15138724e-01,  2.21883953e-02, -1.65116519e-01,\n",
            "        -2.11088106e-01],\n",
            "       [ 4.77706492e-02, -6.42401576e-02, -1.76864088e-01,\n",
            "        -1.63572103e-01,  1.35131210e-01,  1.77286178e-01,\n",
            "         1.05127931e-01,  9.66604054e-02,  1.09525204e-01,\n",
            "         1.06217772e-01],\n",
            "       [-2.14817613e-01, -9.54944044e-02, -2.99851894e-02,\n",
            "        -1.61241233e-01,  1.65638030e-01,  1.55417770e-01,\n",
            "        -1.86723173e-02, -3.16794366e-02,  6.27479851e-02,\n",
            "         2.21253633e-01],\n",
            "       [-2.10750952e-01, -8.72779936e-02,  1.99385196e-01,\n",
            "        -1.61884248e-01,  1.54777020e-02,  4.86089885e-02,\n",
            "        -1.94217071e-01, -1.88748866e-01,  1.93597496e-01,\n",
            "        -3.00890803e-02],\n",
            "       [-1.65121704e-02, -7.22373575e-02, -1.42800659e-01,\n",
            "        -1.58759013e-01,  4.54128087e-02, -2.31172651e-01,\n",
            "         8.84477794e-02,  1.88519627e-01,  2.28439540e-01,\n",
            "         1.07463002e-02],\n",
            "       [ 1.01448148e-01,  1.28534347e-01,  2.14242637e-02,\n",
            "         1.00937486e-02, -4.07668352e-02,  2.24296004e-01,\n",
            "        -2.19325840e-01, -1.87006727e-01, -1.17292300e-01,\n",
            "        -8.83177072e-02],\n",
            "       [ 1.31873786e-03,  1.08946145e-01,  1.62813753e-01,\n",
            "         1.60908848e-01, -4.10365611e-02, -2.20100731e-01,\n",
            "        -1.66114509e-01,  1.64513290e-01, -2.11425766e-01,\n",
            "        -1.42355368e-01],\n",
            "       [ 1.17825419e-01,  1.90706283e-01,  2.27303386e-01,\n",
            "        -1.87000483e-01, -2.12049469e-01, -1.35320649e-01,\n",
            "         6.00574613e-02,  1.88938975e-01,  1.11105621e-01,\n",
            "         4.52449918e-02],\n",
            "       [ 6.37184083e-02,  9.48808491e-02, -1.26012862e-01,\n",
            "        -2.27331772e-01, -2.10485011e-01,  9.19916928e-02,\n",
            "         2.94173956e-02, -1.76002622e-01,  2.25579500e-01,\n",
            "         7.09974766e-02],\n",
            "       [-2.22232595e-01,  1.52094752e-01,  7.89713860e-02,\n",
            "        -1.43799886e-01,  3.63185108e-02,  1.80280149e-01,\n",
            "        -2.22760022e-01, -4.12129015e-02,  1.26129240e-01,\n",
            "         1.27226084e-01],\n",
            "       [-1.20868735e-01,  3.56805027e-02,  2.06467450e-01,\n",
            "         1.33015066e-02,  2.44918168e-02, -1.48827463e-01,\n",
            "         1.62580013e-01,  4.93167341e-02, -1.36916578e-01,\n",
            "        -1.20184116e-01],\n",
            "       [-8.16121846e-02, -1.21966690e-01,  2.23784626e-01,\n",
            "         5.68171740e-02,  5.05425036e-03, -3.23991925e-02,\n",
            "        -2.24817932e-01,  2.95875967e-02, -7.33939856e-02,\n",
            "        -8.27692598e-02],\n",
            "       [ 3.87449563e-02,  3.66051793e-02, -1.24360479e-01,\n",
            "         6.48623705e-02, -3.07745934e-02,  2.31731415e-01,\n",
            "        -2.22781181e-01, -4.59166914e-02, -2.25845382e-01,\n",
            "        -1.18409514e-01],\n",
            "       [-9.03823525e-02,  7.99387991e-02,  1.77172303e-01,\n",
            "         1.15103692e-01,  6.75614178e-02, -1.75574481e-01,\n",
            "         5.97564876e-02, -1.32166177e-01, -9.47968662e-02,\n",
            "         2.01931655e-01],\n",
            "       [ 2.22977012e-01, -2.09655285e-01, -1.15552440e-01,\n",
            "        -9.58350748e-02,  1.03121877e-01, -1.59699544e-01,\n",
            "        -2.07735598e-02, -1.67135060e-01, -1.08111307e-01,\n",
            "         1.04555905e-01],\n",
            "       [-2.13626564e-01, -1.12185709e-01,  5.86581528e-02,\n",
            "        -4.49596792e-02, -9.63872820e-02, -3.24887782e-02,\n",
            "         6.42929375e-02,  1.22340918e-01, -1.07711896e-01,\n",
            "         2.08961308e-01],\n",
            "       [-1.61492974e-01, -2.52758861e-02, -9.37800556e-02,\n",
            "        -1.69608206e-01, -6.67214394e-02, -5.83550632e-02,\n",
            "        -1.75346136e-02, -7.14853555e-02, -1.93825558e-01,\n",
            "         2.00306475e-02],\n",
            "       [-5.48094213e-02,  1.57594413e-01,  1.03397429e-01,\n",
            "        -2.26856634e-01,  1.99723452e-01,  2.20986426e-01,\n",
            "        -1.56661212e-01,  1.93845659e-01, -1.33512855e-01,\n",
            "         9.45208073e-02],\n",
            "       [ 6.23893142e-02, -3.05973589e-02,  2.83691585e-02,\n",
            "         4.26725149e-02,  1.31966829e-01, -9.43517983e-02,\n",
            "        -1.59509063e-01, -1.75150514e-01,  2.09156156e-01,\n",
            "         1.17224634e-01],\n",
            "       [-5.44293374e-02,  1.04865938e-01, -5.77998608e-02,\n",
            "         1.98646903e-01,  1.92200303e-01, -1.58938527e-01,\n",
            "        -1.10299125e-01,  3.53986919e-02,  2.19683349e-02,\n",
            "         1.61801904e-01],\n",
            "       [-7.27539212e-02, -1.65425152e-01,  1.59608066e-01,\n",
            "        -8.77308547e-02, -8.44377875e-02, -2.09436446e-01,\n",
            "         5.80659509e-02,  1.29409939e-01,  1.63332164e-01,\n",
            "         8.93415809e-02],\n",
            "       [-3.49397659e-02,  3.35859954e-02,  8.33125710e-02,\n",
            "        -2.00130612e-01,  8.40799809e-02, -7.48574883e-02,\n",
            "        -1.39198497e-01, -1.03295207e-01, -1.38967961e-01,\n",
            "        -1.06504634e-01],\n",
            "       [ 2.05137700e-01, -2.16349065e-02, -9.67651457e-02,\n",
            "        -1.79771498e-01, -2.74566412e-02, -1.72970325e-01,\n",
            "         4.18647826e-02,  7.62110949e-02, -1.77151978e-01,\n",
            "        -1.01237565e-01],\n",
            "       [-2.00408578e-01,  9.24436748e-02,  8.25316608e-02,\n",
            "         4.13413048e-02, -5.36899865e-02, -2.22112238e-02,\n",
            "        -1.14058144e-01, -6.11840785e-02,  1.00505382e-01,\n",
            "        -1.81330666e-01],\n",
            "       [-1.38882786e-01,  3.10612023e-02,  1.77453756e-02,\n",
            "         2.30398655e-01, -7.50208646e-02, -1.79551885e-01,\n",
            "         4.42728400e-04, -1.33879691e-01,  3.47964466e-02,\n",
            "         1.99257791e-01],\n",
            "       [ 1.00475848e-02,  1.34894073e-01, -2.38854289e-02,\n",
            "         1.46538228e-01,  2.24747986e-01,  6.78738356e-02,\n",
            "        -1.95246130e-01, -1.65368319e-01,  1.32034719e-01,\n",
            "         1.66676790e-01],\n",
            "       [-1.81961939e-01, -9.15050209e-02,  1.83392704e-01,\n",
            "         2.44612992e-02, -2.22588629e-01,  4.36209142e-02,\n",
            "        -2.29781359e-01,  3.05930674e-02,  3.80796194e-03,\n",
            "         5.37185967e-02],\n",
            "       [-1.86131284e-01,  1.67918414e-01,  2.72127986e-02,\n",
            "        -1.30973175e-01, -1.63342416e-01,  1.72204405e-01,\n",
            "         4.30210829e-02, -1.00568309e-01,  1.53886825e-01,\n",
            "         1.32190794e-01],\n",
            "       [ 6.38410151e-02, -1.74625367e-01,  1.49430335e-01,\n",
            "         1.22185022e-01, -1.24179237e-01, -1.89741746e-01,\n",
            "         1.04290575e-01,  2.06511021e-02,  1.40656203e-01,\n",
            "         4.29100096e-02],\n",
            "       [ 1.14255697e-01,  1.61495060e-02,  3.27671468e-02,\n",
            "        -1.28068164e-01, -1.05204672e-01, -2.01039910e-01,\n",
            "         1.22931600e-01,  3.24561000e-02, -1.23413429e-01,\n",
            "         8.09743404e-02],\n",
            "       [ 8.80104899e-02,  1.27185881e-01,  7.03733265e-02,\n",
            "        -1.50522500e-01,  1.54217303e-01,  1.71263248e-01,\n",
            "         2.17610538e-01, -2.14634195e-01, -3.78506333e-02,\n",
            "         2.32214868e-01],\n",
            "       [ 2.17888176e-01,  1.79126650e-01, -1.49643332e-01,\n",
            "         8.86810720e-02, -5.50702959e-02, -1.74982414e-01,\n",
            "        -1.56193107e-01,  1.40850544e-01,  4.64348197e-02,\n",
            "         1.33590579e-01],\n",
            "       [ 4.05817032e-02,  1.67947352e-01,  9.46180820e-02,\n",
            "         1.92127019e-01,  1.51449502e-01,  1.55396283e-01,\n",
            "         2.97750831e-02,  2.08006740e-01, -3.46209854e-02,\n",
            "         6.63613975e-02],\n",
            "       [-2.17086628e-01, -2.01705590e-01, -2.14673460e-01,\n",
            "         4.43447828e-02,  2.09288329e-01, -1.70871913e-01,\n",
            "        -7.89740533e-02,  1.38292760e-02, -1.82885662e-01,\n",
            "        -6.72589391e-02],\n",
            "       [ 1.38262868e-01,  1.58963710e-01,  8.21237862e-02,\n",
            "         2.18445122e-01,  8.87134671e-03,  3.81161273e-02,\n",
            "        -1.56487048e-01, -1.66978210e-01, -1.50778860e-01,\n",
            "         1.70143098e-01],\n",
            "       [-6.95843548e-02,  1.70510322e-01, -6.58358634e-02,\n",
            "         8.52610171e-02,  1.03762597e-01,  2.24670589e-01,\n",
            "        -6.87837005e-02, -1.44911751e-01,  1.83667272e-01,\n",
            "         2.28188932e-02],\n",
            "       [ 4.96239364e-02,  1.02126718e-01, -5.45915365e-02,\n",
            "         1.97911322e-01, -1.28173515e-01, -1.51666105e-01,\n",
            "         1.55091971e-01,  4.16550934e-02, -1.71540335e-01,\n",
            "        -6.60866499e-02],\n",
            "       [ 1.28966719e-01, -1.99827313e-01, -1.11461721e-01,\n",
            "        -8.56481045e-02, -5.90780377e-03,  1.39892012e-01,\n",
            "        -1.69429332e-02,  2.14324594e-02,  1.96695387e-01,\n",
            "         1.43776953e-01],\n",
            "       [ 3.76486182e-02, -2.61223763e-02,  2.30341375e-01,\n",
            "        -1.91962808e-01,  1.85356915e-01,  3.15901637e-02,\n",
            "         5.06271422e-03,  6.21853173e-02,  1.36707038e-01,\n",
            "         2.32865691e-01],\n",
            "       [-6.83768243e-02,  1.23605937e-01, -1.18788660e-01,\n",
            "         1.39153123e-01,  1.94623053e-01,  1.86567277e-01,\n",
            "         2.00734884e-01, -1.84338242e-02,  2.24021286e-01,\n",
            "         1.90843433e-01],\n",
            "       [-2.33650208e-02, -1.55354798e-01, -1.18458070e-01,\n",
            "         1.09553099e-01, -1.73946485e-01,  2.54831910e-02,\n",
            "        -7.42234886e-02, -2.11496592e-01,  1.64254665e-01,\n",
            "        -2.01322615e-01],\n",
            "       [ 9.86521542e-02,  2.03886390e-01, -1.87450856e-01,\n",
            "         1.05518669e-01, -1.69942290e-01,  1.61859035e-01,\n",
            "        -4.70198244e-02, -2.09734291e-01,  1.45855308e-01,\n",
            "        -6.38650209e-02],\n",
            "       [ 1.53727025e-01, -9.57591832e-02, -2.17788175e-01,\n",
            "         4.73479629e-02, -8.75374675e-03, -2.29667887e-01,\n",
            "        -1.45787477e-01, -7.61794001e-02, -1.07934341e-01,\n",
            "        -1.98684812e-01],\n",
            "       [-1.37146711e-01,  1.30610675e-01, -1.95716202e-01,\n",
            "        -2.30790108e-01,  2.00834543e-01, -5.76098710e-02,\n",
            "        -1.88181579e-01, -9.09199715e-02, -1.83128878e-01,\n",
            "        -2.28746220e-01],\n",
            "       [-1.03202879e-01, -1.57016933e-01, -2.76064277e-02,\n",
            "         1.48670763e-01, -2.19745860e-01, -2.07095280e-01,\n",
            "         3.78977358e-02, -1.09611668e-01,  1.68969750e-01,\n",
            "         8.09924304e-02],\n",
            "       [ 1.36839777e-01, -2.87013054e-02,  1.66448325e-01,\n",
            "         2.33068019e-01, -1.76171362e-02,  8.26842487e-02,\n",
            "         9.33674574e-02,  2.27325439e-01,  1.41940475e-01,\n",
            "         2.17889398e-01],\n",
            "       [-1.37819290e-01,  1.52847737e-01, -7.66537637e-02,\n",
            "         7.08907843e-02, -5.46739548e-02,  4.38954234e-02,\n",
            "        -1.21552348e-02, -1.88851103e-01, -1.96618214e-01,\n",
            "         3.65249217e-02],\n",
            "       [-2.68058181e-02,  2.27530569e-01,  8.82484913e-02,\n",
            "        -2.20949650e-02,  1.28868610e-01, -1.50697052e-01,\n",
            "         1.29102290e-01,  1.94505960e-01,  2.32373387e-01,\n",
            "        -1.43823490e-01],\n",
            "       [-1.20002627e-02,  2.80073881e-02, -1.45194620e-01,\n",
            "        -2.30999038e-01,  7.41095841e-03, -1.02920517e-01,\n",
            "         1.21984184e-01, -2.03113690e-01, -1.03149652e-01,\n",
            "         1.13135874e-01],\n",
            "       [-1.28145665e-02, -2.07058802e-01, -7.04732090e-02,\n",
            "         1.45912528e-01,  2.04410881e-01,  1.78284496e-01,\n",
            "        -2.23292783e-01,  2.30418026e-01, -8.62563252e-02,\n",
            "        -1.93321630e-01],\n",
            "       [ 4.97275591e-02, -2.21224070e-01,  2.11097300e-01,\n",
            "        -1.35972351e-02, -5.69280386e-02, -1.94002241e-01,\n",
            "        -6.61377758e-02, -9.88493413e-02,  2.29297191e-01,\n",
            "        -2.52461433e-02],\n",
            "       [-1.78632289e-01,  3.67839038e-02, -1.95990726e-01,\n",
            "         5.12606204e-02,  8.55509341e-02,  1.13525867e-01,\n",
            "        -9.46131349e-03, -1.27838522e-01,  1.87469333e-01,\n",
            "        -1.22157954e-01],\n",
            "       [ 2.26931363e-01, -3.54965925e-02,  1.81488395e-02,\n",
            "        -7.46859610e-03, -2.30735213e-01,  5.54532707e-02,\n",
            "         1.92107201e-01,  1.12676114e-01,  4.43401039e-02,\n",
            "        -1.42171770e-01],\n",
            "       [ 8.72446299e-02,  2.80752182e-02,  1.35763586e-02,\n",
            "        -6.40334189e-02,  1.02812201e-01,  2.15622395e-01,\n",
            "         2.13382840e-01, -4.89647537e-02,  5.02405465e-02,\n",
            "         7.97744393e-02],\n",
            "       [-1.55299723e-01, -6.64505363e-03,  1.72260433e-01,\n",
            "         5.21585345e-02, -6.54024780e-02, -1.26492798e-01,\n",
            "         7.50078261e-03,  1.59863353e-01, -1.61892548e-01,\n",
            "        -1.31893784e-01],\n",
            "       [-1.61019117e-01,  2.25062430e-01, -1.12568527e-01,\n",
            "        -9.90876108e-02, -1.85418725e-01, -1.44701272e-01,\n",
            "         1.60395682e-01, -1.55315936e-01, -1.30811036e-01,\n",
            "        -2.30731755e-01],\n",
            "       [-2.32189253e-01,  1.38059407e-02, -1.85024321e-01,\n",
            "         1.63937420e-01, -7.63116479e-02, -1.05583757e-01,\n",
            "         5.72255254e-03,  1.51928365e-01, -2.14146256e-01,\n",
            "        -7.32410252e-02],\n",
            "       [ 1.49374813e-01,  1.90292448e-01, -1.05082616e-01,\n",
            "         9.84762609e-03,  1.42012298e-01, -8.10863078e-02,\n",
            "        -3.23211849e-02,  6.02898598e-02, -1.67255402e-01,\n",
            "         9.78727341e-02],\n",
            "       [-1.20349050e-01,  1.22556537e-01,  3.87399793e-02,\n",
            "        -6.48227632e-02,  1.20154172e-01, -1.17427945e-01,\n",
            "        -6.38389587e-03,  5.64084053e-02,  1.05741769e-02,\n",
            "        -7.46211708e-02],\n",
            "       [-3.73558253e-02, -2.01264083e-01,  9.25997496e-02,\n",
            "        -1.36289194e-01, -1.51235566e-01, -1.17292188e-01,\n",
            "        -1.91345960e-02, -1.31543487e-01, -5.81223667e-02,\n",
            "         1.12665296e-01],\n",
            "       [ 8.95954370e-02, -9.61572528e-02,  1.01331681e-01,\n",
            "        -1.71540499e-01, -7.10426271e-03, -2.42764354e-02,\n",
            "         6.17984831e-02,  1.41572148e-01,  9.11639035e-02,\n",
            "        -1.48923844e-01],\n",
            "       [ 1.86277121e-01,  1.43855691e-01,  8.98375511e-02,\n",
            "         1.44713968e-01, -1.04614660e-01,  1.19037002e-01,\n",
            "         8.53010416e-02,  2.05782294e-01, -2.60164589e-02,\n",
            "         2.22420007e-01],\n",
            "       [ 1.78502202e-02,  8.61464143e-02,  2.09007263e-02,\n",
            "        -4.87107337e-02,  7.89181888e-02, -1.34105593e-01,\n",
            "         1.77139670e-01, -1.00366250e-01, -1.98843226e-01,\n",
            "         1.70099497e-01],\n",
            "       [ 1.26350641e-01,  9.18565989e-02,  1.82484925e-01,\n",
            "         1.28644586e-01, -1.46653235e-01, -1.35792673e-01,\n",
            "         3.48947644e-02,  1.30285770e-01,  1.29641682e-01,\n",
            "         1.35729611e-02],\n",
            "       [-1.84378296e-01,  2.03317106e-02, -1.06811941e-01,\n",
            "         1.91694409e-01,  4.05650437e-02, -1.45788521e-01,\n",
            "        -1.80743724e-01, -1.71078742e-03, -9.23024565e-02,\n",
            "         7.21966922e-02],\n",
            "       [ 2.11832464e-01, -1.32934764e-01, -8.35866928e-02,\n",
            "        -7.94613808e-02, -1.49294466e-01,  2.28275597e-01,\n",
            "        -7.99666494e-02,  4.30065989e-02,  1.23733878e-01,\n",
            "         2.18911290e-01],\n",
            "       [-1.29599571e-02,  6.02514446e-02,  9.72760916e-02,\n",
            "        -1.84179842e-01,  9.47965384e-02,  8.98453593e-02,\n",
            "         2.31673956e-01,  2.15591103e-01, -2.31054604e-01,\n",
            "        -2.24177197e-01],\n",
            "       [-4.14173752e-02,  7.30425119e-02,  1.44200355e-01,\n",
            "        -8.26870799e-02,  5.59094846e-02, -1.26775384e-01,\n",
            "         1.59459651e-01, -1.31512284e-02, -2.09658131e-01,\n",
            "         1.18701398e-01],\n",
            "       [ 1.46121860e-01, -2.32874587e-01, -4.82379347e-02,\n",
            "        -1.18914545e-02,  1.64088398e-01,  8.51832330e-03,\n",
            "         7.92741776e-03,  1.62963212e-01, -2.27839485e-01,\n",
            "        -4.81232256e-02],\n",
            "       [ 1.38034225e-01,  1.29277259e-01, -1.65812656e-01,\n",
            "         4.67168391e-02, -2.06785291e-01, -2.13700011e-01,\n",
            "        -1.69986516e-01, -2.10964769e-01, -1.98680356e-01,\n",
            "        -2.09274754e-01],\n",
            "       [-1.54357582e-01,  2.04408705e-01, -6.11822903e-02,\n",
            "        -8.90626013e-03, -5.56349158e-02,  2.15290368e-01,\n",
            "         2.28704005e-01,  5.36133051e-02,  1.18123204e-01,\n",
            "        -5.26476055e-02],\n",
            "       [-1.41513720e-01,  1.38686448e-02, -2.04352185e-01,\n",
            "        -6.89326972e-02, -7.86043704e-03, -2.30321586e-02,\n",
            "         2.03677654e-01,  2.05497473e-01, -7.22153038e-02,\n",
            "         9.27866101e-02],\n",
            "       [-3.02314609e-02, -8.55964869e-02, -1.80174261e-01,\n",
            "         7.88470507e-02,  1.97917342e-01,  8.12583864e-02,\n",
            "         1.18539304e-01, -1.83959946e-01, -1.90549418e-01,\n",
            "        -2.17420548e-01],\n",
            "       [ 1.60714179e-01, -2.28318304e-01,  2.29933649e-01,\n",
            "         1.73616350e-01,  1.30153865e-01, -1.44897386e-01,\n",
            "         2.28115857e-01, -1.56591237e-01,  3.38737071e-02,\n",
            "         1.29124135e-01],\n",
            "       [-6.59014285e-03, -2.31656879e-02, -1.11796431e-01,\n",
            "        -1.29374087e-01, -1.89387664e-01,  1.39446557e-03,\n",
            "         9.78996158e-02, -1.69909671e-01,  7.76651204e-02,\n",
            "        -2.07914650e-01],\n",
            "       [ 8.80041420e-02,  2.94335485e-02,  2.23827630e-01,\n",
            "         1.35924041e-01, -5.38975000e-05,  3.91655564e-02,\n",
            "         1.41776592e-01, -4.95111644e-02,  4.87453640e-02,\n",
            "         3.04004550e-02],\n",
            "       [-1.21971250e-01, -1.14235662e-01,  1.88943326e-01,\n",
            "        -1.44142389e-01,  3.27014923e-02,  2.12251306e-01,\n",
            "        -1.69872805e-01,  1.39296174e-01, -1.76933408e-01,\n",
            "         4.99066710e-03],\n",
            "       [-1.01519093e-01,  1.06286258e-01,  1.45659119e-01,\n",
            "        -1.10096499e-01,  4.77226973e-02,  1.23390615e-01,\n",
            "         2.15722501e-01, -1.42332375e-01, -2.78691947e-03,\n",
            "        -1.95954919e-01],\n",
            "       [-1.24690011e-01, -1.97457239e-01, -1.38548732e-01,\n",
            "        -1.15484007e-01,  7.85862207e-02,  3.28735411e-02,\n",
            "         3.44451368e-02,  1.57972604e-01,  1.54490888e-01,\n",
            "        -1.69990122e-01],\n",
            "       [ 1.44828290e-01,  6.83275461e-02, -9.64013636e-02,\n",
            "         2.28736639e-01, -2.09011286e-02, -1.49677455e-01,\n",
            "        -9.38338935e-02, -4.65966910e-02,  2.99023390e-02,\n",
            "        -8.80353302e-02],\n",
            "       [ 1.24278963e-01,  8.53507221e-02, -1.10995881e-01,\n",
            "        -4.10950780e-02,  2.74254680e-02,  1.05790794e-03,\n",
            "         1.27235055e-03,  2.08869874e-01, -6.98472261e-02,\n",
            "         7.18231201e-02],\n",
            "       [-2.51011550e-02,  1.84600234e-01,  1.00780010e-01,\n",
            "        -1.04274943e-01,  2.22617120e-01,  5.93097508e-03,\n",
            "         1.21583194e-01,  1.63577765e-01, -1.82117850e-01,\n",
            "        -5.92929870e-02],\n",
            "       [-3.69506329e-02,  1.86862022e-01,  2.14131564e-01,\n",
            "        -7.50218630e-02, -9.81090963e-02,  3.79219055e-02,\n",
            "         1.99079156e-01, -1.23648688e-01,  1.69651568e-01,\n",
            "        -1.33688927e-01],\n",
            "       [-5.67065924e-02,  5.33417463e-02,  6.69536293e-02,\n",
            "        -1.12255976e-01,  1.06854558e-01,  2.09163338e-01,\n",
            "        -1.21706873e-01,  2.48730183e-04, -3.20511758e-02,\n",
            "         4.15734649e-02],\n",
            "       [-7.87914693e-02, -1.69896975e-01, -1.42755449e-01,\n",
            "         1.38230056e-01, -2.01203451e-01, -1.80818617e-01,\n",
            "         7.00488985e-02, -1.65788710e-01,  9.87635851e-02,\n",
            "         1.75098687e-01],\n",
            "       [ 2.74643302e-02,  3.74965370e-02, -9.77674872e-02,\n",
            "        -7.87966996e-02,  2.09843218e-02, -2.15452015e-02,\n",
            "        -1.68930769e-01, -1.51509359e-01, -7.38806576e-02,\n",
            "        -8.40519667e-02]], dtype=float32), array([[-0.38009983, -0.1440357 ],\n",
            "       [-0.1137653 , -0.17647272],\n",
            "       [ 0.67202395,  0.32019717],\n",
            "       [-0.23677003,  0.5316773 ],\n",
            "       [-0.24672022,  0.38783664],\n",
            "       [-0.47238088, -0.63448185],\n",
            "       [ 0.3763575 , -0.15865523],\n",
            "       [ 0.00312966, -0.01985186],\n",
            "       [ 0.5054776 , -0.5505287 ],\n",
            "       [-0.03761452,  0.16831529]], dtype=float32)]\n"
          ]
        }
      ]
    },
    {
      "cell_type": "markdown",
      "metadata": {
        "id": "UNzFJznlYwbv"
      },
      "source": [
        "#### Решение"
      ]
    },
    {
      "cell_type": "code",
      "metadata": {
        "colab": {
          "base_uri": "https://localhost:8080/"
        },
        "id": "CjZIH0TrYyHN",
        "outputId": "00495e2d-fb1e-44b2-9253-85fb83f6e3cf"
      },
      "source": [
        "# Сохранение весов модели в параметр weights\n",
        "weights = model.get_weights()\n",
        "# Вывод весов модели\n",
        "print(weights)"
      ],
      "execution_count": null,
      "outputs": [
        {
          "output_type": "stream",
          "text": [
            "[array([[ 0.10001682,  0.19200744,  0.2039106 , -0.17598018,  0.20093752,\n",
            "        -0.07394125,  0.08382766,  0.07779534, -0.12712894,  0.1515237 ,\n",
            "         0.0235012 , -0.06039262,  0.15923648,  0.23414199, -0.03117664,\n",
            "         0.06293063, -0.20672062,  0.00591528,  0.06150894,  0.16802292,\n",
            "        -0.16532287, -0.1848858 , -0.17557287,  0.1523938 ,  0.2349263 ,\n",
            "        -0.22418448,  0.2115665 , -0.13265614,  0.15281127, -0.11761629,\n",
            "        -0.09973361,  0.23246239, -0.01859957, -0.21863341, -0.15054792,\n",
            "         0.2173786 ,  0.11305426, -0.18817455, -0.23472641,  0.03756674,\n",
            "        -0.08629207,  0.15033473, -0.20595653, -0.08178523, -0.23300199,\n",
            "        -0.097086  ,  0.05799361, -0.15651996,  0.0004603 ,  0.1889499 ,\n",
            "        -0.19787776,  0.12985201,  0.181929  ,  0.06955771, -0.22644338,\n",
            "         0.18084161,  0.14413728, -0.08718985, -0.1403267 ,  0.21333583,\n",
            "         0.19120993,  0.14107387, -0.19279025, -0.03059401, -0.22414577,\n",
            "         0.21075498, -0.13994502,  0.00306885, -0.18373059,  0.21835534,\n",
            "        -0.08452792,  0.13410245, -0.125222  ,  0.02738313, -0.16796339,\n",
            "         0.1418881 , -0.22639467,  0.00413269, -0.09980419, -0.2146557 ,\n",
            "        -0.05227226, -0.1482144 ,  0.2070256 , -0.12908545,  0.21152548,\n",
            "        -0.00467953, -0.01781581, -0.1412119 ,  0.11154248,  0.1317072 ,\n",
            "        -0.12016005, -0.21690938, -0.16358148,  0.0985236 , -0.04276259,\n",
            "        -0.08665994,  0.19022126,  0.06623064,  0.19609304, -0.11359576],\n",
            "       [ 0.16312824,  0.03289293, -0.07469517,  0.06125034,  0.03056253,\n",
            "        -0.12176523,  0.05789493, -0.08178714,  0.19419701, -0.1035144 ,\n",
            "        -0.18145066, -0.21790016,  0.09826268,  0.23165189,  0.01815338,\n",
            "         0.06450807, -0.08052139,  0.05889399,  0.01219539, -0.09005018,\n",
            "         0.047076  , -0.2212351 , -0.1988894 ,  0.12841387,  0.0603549 ,\n",
            "         0.04934986,  0.23390792, -0.00745769, -0.15738004,  0.2343613 ,\n",
            "        -0.16317017,  0.07911463, -0.02121475, -0.07265745,  0.0195186 ,\n",
            "         0.06041931,  0.21525638,  0.2333471 ,  0.15016748, -0.22309366,\n",
            "        -0.18622388, -0.21545497,  0.19605602, -0.10425675,  0.17448734,\n",
            "        -0.1936269 ,  0.19712318,  0.08251829,  0.22369985, -0.0745109 ,\n",
            "         0.1567003 ,  0.1977797 ,  0.01635911, -0.00180209, -0.05784498,\n",
            "        -0.00553983,  0.14427225, -0.01789577, -0.05226311, -0.2278798 ,\n",
            "        -0.13751134,  0.04631169, -0.09354752, -0.23471946, -0.00840566,\n",
            "         0.08596294,  0.018214  , -0.17737636, -0.15332574, -0.00238028,\n",
            "         0.11253916, -0.05688173, -0.234924  , -0.0875635 ,  0.13115884,\n",
            "        -0.04928613, -0.06035373, -0.19950616, -0.1371745 ,  0.20340125,\n",
            "         0.16135235, -0.00973794, -0.04841033, -0.07551417, -0.10555044,\n",
            "         0.0416656 , -0.00337973, -0.01699597, -0.20377064,  0.0403509 ,\n",
            "        -0.00680733,  0.08596464,  0.1744086 ,  0.13811229,  0.19681875,\n",
            "         0.10092749, -0.14848542,  0.05190222,  0.1542501 , -0.06419437],\n",
            "       [ 0.01425429,  0.12574272,  0.18058543,  0.08220063,  0.03574391,\n",
            "         0.03976853, -0.09704244,  0.04891627, -0.00327644, -0.02357313,\n",
            "         0.06708784, -0.03282295, -0.13614765, -0.23091567, -0.05721092,\n",
            "         0.02749486,  0.1286927 , -0.19803056,  0.04140843,  0.12752406,\n",
            "         0.08249886, -0.00040838, -0.1257908 , -0.07820673,  0.00865151,\n",
            "        -0.08215444, -0.14791492, -0.12122889, -0.0502069 ,  0.16431214,\n",
            "         0.01661946,  0.03350179, -0.19910654,  0.2128516 , -0.23497115,\n",
            "         0.1331696 , -0.01825656,  0.18136026,  0.1079732 ,  0.21255027,\n",
            "        -0.03006795,  0.22012164,  0.1655281 , -0.2210464 , -0.02772936,\n",
            "        -0.03607282, -0.21771887, -0.15872756,  0.16580923, -0.13686745,\n",
            "        -0.22774094, -0.00215736,  0.17551853,  0.02559017,  0.20348285,\n",
            "         0.07265128, -0.10307479, -0.07115248,  0.21470587, -0.20816256,\n",
            "         0.11549653, -0.14161578,  0.05995901, -0.184303  ,  0.07606842,\n",
            "         0.16547169, -0.10797152, -0.09183781, -0.11764029, -0.16519812,\n",
            "        -0.20453349,  0.03760134, -0.09587604,  0.12044649,  0.07415782,\n",
            "        -0.14702024,  0.03131472, -0.07716875, -0.19099468, -0.06379707,\n",
            "        -0.13909213, -0.08270414, -0.0686117 , -0.10074557,  0.14506541,\n",
            "        -0.22467878, -0.22042044, -0.1303484 , -0.04102984,  0.08438839,\n",
            "         0.1946926 , -0.21346222, -0.02894478,  0.05827157, -0.1584858 ,\n",
            "        -0.08486234,  0.19552688, -0.15731165, -0.19403082, -0.07940371],\n",
            "       [ 0.13209496,  0.19480442,  0.20126088, -0.07014753, -0.1735696 ,\n",
            "         0.15941782, -0.14046286,  0.15639426, -0.0790903 ,  0.11029936,\n",
            "         0.03772806, -0.01147501,  0.06393109,  0.10459824, -0.11578762,\n",
            "         0.13344799,  0.04454191, -0.1830419 , -0.17514999, -0.17282483,\n",
            "         0.21387105, -0.17185879, -0.16993704, -0.07754031, -0.14366743,\n",
            "         0.05802496, -0.08851714,  0.18021752, -0.07000057,  0.11347224,\n",
            "        -0.07590631,  0.16168262, -0.20677014,  0.02345039, -0.02464467,\n",
            "         0.14746772,  0.13440804, -0.0131098 ,  0.00986056, -0.20689872,\n",
            "        -0.07883276,  0.08900432,  0.17522602, -0.10691717,  0.1076843 ,\n",
            "         0.15804018, -0.17328149,  0.14464079,  0.23372243,  0.00059231,\n",
            "         0.0913185 ,  0.16848196,  0.20834894,  0.07002492,  0.20517613,\n",
            "        -0.09076014, -0.21267705, -0.20628528, -0.14525187,  0.07957415,\n",
            "         0.10802783,  0.07326157, -0.20381829, -0.09365378,  0.19702955,\n",
            "        -0.1314681 ,  0.08577798, -0.09655775,  0.12409298,  0.15133028,\n",
            "        -0.06889953, -0.16581121, -0.1378143 ,  0.00762285, -0.02349389,\n",
            "         0.17240708, -0.17599961, -0.0456429 , -0.16392303, -0.05597034,\n",
            "         0.2327507 ,  0.19568516,  0.22507076,  0.09920625, -0.0707209 ,\n",
            "        -0.03922619, -0.14688312,  0.21464546, -0.07367471,  0.02206327,\n",
            "        -0.00127789, -0.15693587,  0.07999529,  0.22075857,  0.14225258,\n",
            "         0.17089193, -0.22135536,  0.2153501 ,  0.08128335,  0.16409437],\n",
            "       [ 0.12812434, -0.08192903,  0.14279999, -0.17330244,  0.00748691,\n",
            "        -0.04951671,  0.19830476, -0.14340892,  0.1126679 , -0.06529294,\n",
            "         0.19332151, -0.14664248,  0.00705539, -0.16422059,  0.00227076,\n",
            "         0.07764129, -0.18865895,  0.16950868, -0.05377798, -0.02947728,\n",
            "         0.18809195,  0.14149518,  0.15617485, -0.20562902,  0.00249919,\n",
            "        -0.09067714,  0.19168787, -0.18153001,  0.22518821, -0.08217821,\n",
            "        -0.02790043,  0.19036289, -0.19016355, -0.0181445 ,  0.21180977,\n",
            "        -0.03100109,  0.05755495,  0.06820147,  0.20566343,  0.01359236,\n",
            "        -0.10258649, -0.16589034,  0.04611079, -0.08150071, -0.02116564,\n",
            "        -0.06262785, -0.06515004, -0.18784654, -0.01802874, -0.1356833 ,\n",
            "         0.0494125 , -0.10156126,  0.02566956, -0.10284027, -0.11100508,\n",
            "        -0.05875091,  0.0112599 ,  0.01415825, -0.01436523,  0.18106909,\n",
            "        -0.02238442,  0.16918756, -0.21182916,  0.09760784,  0.143479  ,\n",
            "         0.07554485, -0.1461946 ,  0.20130025, -0.17344832, -0.1206027 ,\n",
            "         0.00315838,  0.1259004 , -0.13342455, -0.03253776, -0.21582378,\n",
            "        -0.21436381,  0.03172819,  0.13357161, -0.21690989,  0.14201413,\n",
            "        -0.05619068,  0.05079009,  0.03232299, -0.00187896, -0.09468374,\n",
            "         0.12623273, -0.18906981,  0.09009154,  0.15663375,  0.09299488,\n",
            "         0.00024405, -0.06728631,  0.21828054, -0.16136006,  0.14835359,\n",
            "         0.14102443, -0.08706382,  0.10477786, -0.18047544,  0.04230385],\n",
            "       [-0.14214283,  0.16419856, -0.07143784, -0.20590505, -0.10029872,\n",
            "        -0.22985744, -0.0624944 , -0.22233924,  0.10093407,  0.20222412,\n",
            "        -0.0934394 , -0.0253448 ,  0.02129145,  0.12843393, -0.00073533,\n",
            "        -0.02450587,  0.11346887, -0.16665089, -0.07689418,  0.02853285,\n",
            "         0.01260814, -0.20182782,  0.07649131, -0.06832971, -0.16428027,\n",
            "         0.20139001, -0.22337133,  0.08169352, -0.13742267, -0.06786963,\n",
            "        -0.01183067, -0.05884987, -0.04530478, -0.16772154,  0.18586214,\n",
            "         0.1467175 ,  0.07451345, -0.11329927,  0.21179707,  0.06261475,\n",
            "         0.14372648,  0.10143365,  0.07816879,  0.2212569 , -0.19276507,\n",
            "         0.19955762,  0.01217313, -0.0579654 , -0.1758996 ,  0.17319544,\n",
            "         0.03199975, -0.12965444, -0.15272613, -0.03020592,  0.08963482,\n",
            "         0.19253232,  0.11715274,  0.02799164,  0.17046277,  0.04519998,\n",
            "        -0.14350452,  0.06428535, -0.17060938,  0.16770025,  0.14396627,\n",
            "         0.05649634, -0.21106057, -0.22557387,  0.07223116,  0.10332294,\n",
            "         0.22001629, -0.23377149, -0.12015791,  0.2337711 , -0.1635567 ,\n",
            "        -0.03549248,  0.17192082,  0.18302049, -0.07215114,  0.19154383,\n",
            "         0.03593783, -0.1547217 , -0.1884326 , -0.2209992 ,  0.08262496,\n",
            "        -0.10968566, -0.08645622, -0.1657377 ,  0.14615245,  0.10985453,\n",
            "        -0.1214679 ,  0.00223823,  0.10201649,  0.22263668,  0.20806225,\n",
            "        -0.09797625,  0.08096017,  0.10416065,  0.11955859,  0.00993587],\n",
            "       [ 0.1886947 ,  0.22235121, -0.18637067, -0.22693527,  0.03853099,\n",
            "         0.01328002,  0.10682867,  0.06936567,  0.10829683,  0.10208069,\n",
            "         0.01319449, -0.01543665, -0.01747026, -0.0149115 ,  0.08818723,\n",
            "        -0.01666918,  0.18631555,  0.11106212,  0.18313001, -0.07076304,\n",
            "         0.16837402,  0.01389755,  0.078225  , -0.17644958, -0.02623411,\n",
            "        -0.1945262 , -0.06927733, -0.07784012, -0.22284827,  0.08128507,\n",
            "         0.1348988 , -0.16190442, -0.0074949 ,  0.2318293 , -0.10779192,\n",
            "        -0.11094647,  0.1145208 , -0.06419858, -0.12884708,  0.06774397,\n",
            "         0.1930183 ,  0.18709357,  0.16293798,  0.02284686,  0.17750208,\n",
            "        -0.04598744,  0.20711704,  0.16909163,  0.20784004,  0.23063536,\n",
            "         0.1760646 ,  0.15615283,  0.1121725 ,  0.09767516,  0.10962273,\n",
            "        -0.23436587, -0.0509184 , -0.21269199,  0.19778128, -0.11206797,\n",
            "        -0.15426141, -0.07028566,  0.21732877,  0.21414994, -0.06845884,\n",
            "         0.13391499,  0.20769714, -0.12757301,  0.10729121,  0.16575693,\n",
            "         0.12699206, -0.03355327, -0.0094714 ,  0.09230013,  0.19831975,\n",
            "         0.17265289, -0.14805323,  0.06157704, -0.19133753, -0.22975804,\n",
            "        -0.0878582 , -0.1709062 , -0.07754318, -0.20485392,  0.09709139,\n",
            "         0.11853723, -0.02513587, -0.15740061,  0.2140911 , -0.20735267,\n",
            "        -0.09356488,  0.07970063,  0.140759  , -0.21124792,  0.11316328,\n",
            "        -0.05278601, -0.036991  , -0.02933887,  0.03428404,  0.20609252],\n",
            "       [-0.21086563,  0.1257631 , -0.00203642,  0.12116049, -0.09288923,\n",
            "         0.14686166,  0.02410783,  0.04890074, -0.12179096,  0.12322108,\n",
            "         0.17668857,  0.07279919,  0.22991247,  0.1388125 ,  0.18172844,\n",
            "         0.06705861,  0.10840474,  0.08344187,  0.20325993,  0.1125557 ,\n",
            "        -0.21408683, -0.23260947,  0.17132188,  0.19692765,  0.007183  ,\n",
            "        -0.20304194, -0.03327364,  0.00453831,  0.03111814, -0.20134988,\n",
            "         0.05862077, -0.13034385,  0.18644197, -0.00358889, -0.00928912,\n",
            "        -0.22395031,  0.07179715,  0.19030736, -0.16067925, -0.03037989,\n",
            "         0.21830805, -0.12912911,  0.21158768,  0.1730312 , -0.0537388 ,\n",
            "        -0.16053617, -0.07782927,  0.10925473,  0.20935442, -0.1888053 ,\n",
            "         0.22794752, -0.1205247 , -0.01898783, -0.20400514,  0.16423936,\n",
            "         0.21128277, -0.21200466, -0.18327901,  0.05448841, -0.05467963,\n",
            "         0.20594405,  0.11909036, -0.11881685, -0.16121659,  0.2188551 ,\n",
            "        -0.04240546,  0.14681853,  0.21410887,  0.13779484,  0.13796635,\n",
            "         0.17704777,  0.1809109 , -0.18290237, -0.14928082, -0.01987685,\n",
            "         0.15700881, -0.12884337,  0.09789921,  0.08433078, -0.08248234,\n",
            "        -0.212488  ,  0.15788181,  0.22741501, -0.00049582, -0.14464298,\n",
            "        -0.15395176, -0.05441569, -0.08592477, -0.21161988, -0.10291737,\n",
            "        -0.02608666, -0.1930483 , -0.06695724, -0.16704628,  0.08819003,\n",
            "        -0.14305428,  0.07207073, -0.06715049, -0.09549116,  0.1211044 ]],\n",
            "      dtype=float32), array([[-0.18995668,  0.16681188,  0.17380288, -0.12705547, -0.22865084,\n",
            "         0.07251799,  0.07819372, -0.14938445, -0.08128494,  0.09912047],\n",
            "       [-0.00142458,  0.00375211, -0.01526661, -0.01827319,  0.09682962,\n",
            "        -0.15979671,  0.16579404, -0.06702279,  0.07237604, -0.1867169 ],\n",
            "       [-0.10033824,  0.05875164, -0.04926127,  0.09786299,  0.18075791,\n",
            "         0.05120531,  0.18724155,  0.08831248, -0.18728247,  0.20519629],\n",
            "       [ 0.03764445, -0.22278596, -0.18793869, -0.11210925,  0.1940802 ,\n",
            "         0.00145921,  0.20990336,  0.15939385, -0.13444571, -0.02747864],\n",
            "       [-0.22609752, -0.20770612,  0.08628222, -0.12932119,  0.01149361,\n",
            "         0.01359969,  0.16189337, -0.16426234, -0.09697941, -0.09227295],\n",
            "       [ 0.17692229,  0.11059028, -0.01189023,  0.08465514,  0.10153145,\n",
            "         0.06991923, -0.14165527, -0.0631794 ,  0.2178908 ,  0.00593148],\n",
            "       [ 0.12260959,  0.13296148,  0.11756369,  0.01237306,  0.18798947,\n",
            "        -0.03585067,  0.18530712, -0.05113521,  0.07128763,  0.22027707],\n",
            "       [-0.06552309,  0.0223816 ,  0.05836654, -0.08837417,  0.10511261,\n",
            "         0.14439219, -0.06265421,  0.20768088, -0.12697557,  0.12194067],\n",
            "       [-0.10867921, -0.13138416, -0.19300263, -0.00420476, -0.20212221,\n",
            "        -0.20214164,  0.06317672,  0.14493012, -0.18839529,  0.0708943 ],\n",
            "       [-0.21340117,  0.22279593,  0.15936095,  0.18192491, -0.1742263 ,\n",
            "        -0.05940591,  0.079018  ,  0.14668876,  0.0499858 ,  0.13561282],\n",
            "       [-0.10909471, -0.16847384, -0.21360558,  0.11425298, -0.13545975,\n",
            "         0.21739694, -0.03361551,  0.04160586, -0.15652886,  0.10041592],\n",
            "       [-0.02020465,  0.00272967,  0.17569637, -0.02929144, -0.18044047,\n",
            "         0.16681835, -0.00887112,  0.05381921, -0.152619  , -0.0834751 ],\n",
            "       [-0.03398107,  0.19674689, -0.21585877, -0.08621056, -0.07720201,\n",
            "        -0.02963823,  0.2177327 ,  0.05402914, -0.20676765,  0.1758947 ],\n",
            "       [ 0.08028358, -0.22408013, -0.13603646,  0.01356506,  0.05106679,\n",
            "         0.0169422 , -0.14798883, -0.01275121,  0.04419872,  0.13263085],\n",
            "       [-0.13909137, -0.12385327, -0.22932632, -0.1665788 , -0.16353546,\n",
            "         0.17133492,  0.05488712,  0.00156875, -0.22811879, -0.16156457],\n",
            "       [-0.02624165,  0.10701686, -0.0008726 , -0.22190462, -0.20318207,\n",
            "         0.20659986, -0.12348627,  0.14754915,  0.09461859, -0.169014  ],\n",
            "       [-0.17197421, -0.0028926 , -0.09561835,  0.13721877, -0.1460625 ,\n",
            "        -0.17415535,  0.06472588, -0.13860375,  0.1652787 , -0.19371536],\n",
            "       [-0.16824003, -0.14502144,  0.0915274 , -0.13513333, -0.12217015,\n",
            "         0.02708411, -0.08017763,  0.01653889,  0.02692887, -0.22911084],\n",
            "       [-0.01521292, -0.07859391,  0.12167603, -0.00954555,  0.05496401,\n",
            "        -0.15809983,  0.13785604, -0.16499268, -0.14396587, -0.1504368 ],\n",
            "       [ 0.08861828, -0.19537449,  0.06028479,  0.09542543,  0.01224978,\n",
            "         0.05741119,  0.04073817, -0.05766928,  0.14148599,  0.14856213],\n",
            "       [ 0.13286254,  0.15027437, -0.13395983, -0.12490394, -0.05867162,\n",
            "         0.08845767, -0.21748142, -0.04197782,  0.20990652,  0.0151033 ],\n",
            "       [-0.20433827, -0.19197166,  0.09481028,  0.17253917,  0.17555916,\n",
            "        -0.11218688, -0.03007255, -0.07316943,  0.07862905, -0.04055201],\n",
            "       [ 0.2180633 ,  0.03702775, -0.05371782,  0.16979751, -0.03047252,\n",
            "        -0.07013384, -0.17736411,  0.17611477,  0.1894503 , -0.22638784],\n",
            "       [ 0.06293425,  0.07203883, -0.17086768, -0.10467413,  0.19793594,\n",
            "        -0.20815337, -0.08325872,  0.15173113, -0.00460924, -0.15339917],\n",
            "       [-0.10194178,  0.04440752, -0.17469597, -0.13687909, -0.21296695,\n",
            "         0.09702596,  0.18848059, -0.15406576, -0.20138915, -0.10659128],\n",
            "       [ 0.16849545,  0.08000091,  0.22502163, -0.10796563,  0.18988207,\n",
            "         0.08093408, -0.03605682,  0.08012161,  0.05851695, -0.00028755],\n",
            "       [ 0.16744521,  0.07852754, -0.1669747 , -0.03638233, -0.11852305,\n",
            "        -0.09708893, -0.0887616 ,  0.17937928,  0.22745377, -0.20318219],\n",
            "       [-0.01942554, -0.17781109, -0.15953344,  0.11419541, -0.08952089,\n",
            "         0.20612511, -0.17250587,  0.14161366,  0.10018879,  0.17771414],\n",
            "       [ 0.14092955,  0.21878248,  0.13016644,  0.00843702,  0.12275353,\n",
            "         0.090886  , -0.06406687, -0.12265576,  0.211115  ,  0.04029953],\n",
            "       [-0.18463081,  0.09177369,  0.14377055, -0.05248579, -0.20156744,\n",
            "         0.21977922,  0.06058767,  0.03616652,  0.20320779,  0.13417664],\n",
            "       [-0.06658541, -0.180361  ,  0.15182498, -0.10827668, -0.16333044,\n",
            "        -0.13091427,  0.19227949,  0.01814473, -0.11514117,  0.20229277],\n",
            "       [-0.0921343 , -0.10405979,  0.12128067,  0.02642694, -0.194702  ,\n",
            "        -0.10584463,  0.21856901,  0.21345195, -0.18186338,  0.20706305],\n",
            "       [ 0.02159542,  0.16784039, -0.10027286, -0.18442813,  0.02976874,\n",
            "         0.2280041 , -0.21928331, -0.13857296, -0.23189975, -0.12258549],\n",
            "       [-0.00552566, -0.11338021, -0.19366942, -0.0221184 , -0.04964805,\n",
            "        -0.22697061, -0.13272044, -0.17214026, -0.14639509,  0.08970386],\n",
            "       [-0.01175247, -0.12949958, -0.00939743,  0.20986587, -0.19050977,\n",
            "        -0.07368276, -0.12706837, -0.21531442, -0.19837087, -0.03429651],\n",
            "       [ 0.20944747,  0.2076957 ,  0.21636587, -0.06578425,  0.14593866,\n",
            "         0.12076968,  0.02802655, -0.11505848, -0.16389823,  0.22258279],\n",
            "       [-0.10047577, -0.01326893,  0.08201748, -0.20852014, -0.0867925 ,\n",
            "         0.02281421,  0.10457948, -0.08656625,  0.20913845, -0.17574348],\n",
            "       [ 0.20603341, -0.20120835,  0.11175182,  0.0505113 ,  0.16265094,\n",
            "         0.03628924,  0.15247685, -0.10274813,  0.09982762,  0.00034356],\n",
            "       [ 0.14646319,  0.09775195,  0.01257925,  0.01718324, -0.11691472,\n",
            "         0.14990047,  0.18672156, -0.14441639, -0.22375484,  0.0251064 ],\n",
            "       [ 0.23162529, -0.18612656,  0.12464753, -0.01082335,  0.0872359 ,\n",
            "        -0.06905219, -0.20381792, -0.1105071 ,  0.15147439, -0.00246713],\n",
            "       [ 0.10899672,  0.1536248 ,  0.10588756, -0.2140438 , -0.10200019,\n",
            "        -0.1584607 , -0.16973254, -0.19314668,  0.14044625,  0.19119963],\n",
            "       [-0.03117111, -0.07205683,  0.0822131 , -0.07538904,  0.03011119,\n",
            "        -0.05094394, -0.13022235,  0.08067459, -0.06576854, -0.13332616],\n",
            "       [-0.14792696,  0.04830164,  0.15362078,  0.22538573,  0.08901322,\n",
            "        -0.20687005,  0.02316836, -0.1373589 ,  0.06525499, -0.06309004],\n",
            "       [ 0.17419222, -0.1414856 ,  0.1781637 ,  0.03272086, -0.01181635,\n",
            "        -0.09069735,  0.1118823 , -0.1034196 ,  0.15996465,  0.148312  ],\n",
            "       [-0.16390865, -0.0191665 , -0.14173478, -0.20644702,  0.18792126,\n",
            "         0.17467633,  0.08906823,  0.05090311, -0.17406777,  0.09986249],\n",
            "       [ 0.12874699,  0.14327312, -0.19938953,  0.01364625,  0.15873012,\n",
            "        -0.22572717, -0.05678438, -0.10596813,  0.06316614, -0.05079193],\n",
            "       [-0.00862589, -0.00774606,  0.00086519,  0.06110689,  0.08827233,\n",
            "        -0.09007527,  0.11859962,  0.01433203, -0.04539728,  0.20326102],\n",
            "       [-0.1756545 ,  0.1463409 , -0.06802647, -0.09840322, -0.08189867,\n",
            "         0.18823403,  0.09649217,  0.15414876, -0.21158536, -0.18214074],\n",
            "       [ 0.06348026, -0.00930823, -0.01909997,  0.05908105, -0.2005856 ,\n",
            "        -0.04883352, -0.03910816,  0.06020603,  0.23259479,  0.1389957 ],\n",
            "       [-0.1197645 , -0.12801236,  0.08738145,  0.19661471,  0.1168592 ,\n",
            "         0.00752583,  0.13044864, -0.1405444 ,  0.00370367,  0.08272922],\n",
            "       [ 0.17470694, -0.1540182 ,  0.13744217, -0.1040086 , -0.0182503 ,\n",
            "        -0.04471545, -0.02997538,  0.1400555 , -0.19381014,  0.05613205],\n",
            "       [ 0.20872477, -0.07491891,  0.08073646, -0.18355224, -0.16341786,\n",
            "         0.06557971,  0.17835867, -0.15609321, -0.20318942,  0.1043207 ],\n",
            "       [-0.08345917, -0.08771732, -0.06349061,  0.1982716 , -0.06852666,\n",
            "        -0.1379506 , -0.11314668,  0.00939749, -0.04564424, -0.13451159],\n",
            "       [-0.15408155, -0.01070832, -0.14945161,  0.09824806,  0.19768849,\n",
            "         0.20924363,  0.21855658,  0.12400165,  0.02524051, -0.06423843],\n",
            "       [ 0.18184596,  0.21659198,  0.03682569,  0.13511673,  0.15923688,\n",
            "        -0.22665346,  0.20648628, -0.09904061, -0.03485757,  0.15462658],\n",
            "       [ 0.13355851,  0.16398865, -0.1965946 , -0.00750735, -0.00281709,\n",
            "        -0.04815513, -0.01325719,  0.10147339,  0.03495196, -0.06794824],\n",
            "       [ 0.1269319 ,  0.10636464,  0.16986585,  0.22641864,  0.03858653,\n",
            "         0.01176991, -0.07221514, -0.06236093, -0.03442831, -0.20299648],\n",
            "       [ 0.06444818,  0.18222854, -0.07669568,  0.07872215, -0.10247555,\n",
            "        -0.18074377,  0.05885983,  0.19131923, -0.08754778,  0.02228093],\n",
            "       [-0.04770705, -0.10229492, -0.18319626,  0.13607264, -0.06193045,\n",
            "         0.06528014, -0.13687119,  0.2272932 , -0.16526452,  0.01542012],\n",
            "       [-0.11048795,  0.16460305, -0.14266379, -0.1956481 ,  0.10396811,\n",
            "         0.13333166, -0.21553431, -0.16121723, -0.03141344,  0.22826144],\n",
            "       [ 0.04568839,  0.13943917,  0.14996272, -0.12160976, -0.20472002,\n",
            "         0.00111187,  0.16951868,  0.1470061 , -0.00560723,  0.15044025],\n",
            "       [ 0.04959849,  0.00898115, -0.13523646,  0.01130752,  0.15831175,\n",
            "        -0.14391492,  0.01109721,  0.07718709, -0.01350075,  0.05487046],\n",
            "       [-0.01671296,  0.19023973,  0.13746572,  0.00421372,  0.19799685,\n",
            "         0.06481197,  0.17702931,  0.04881686,  0.10783222, -0.14421582],\n",
            "       [ 0.21133223,  0.22711584, -0.09263889,  0.22764832,  0.13998541,\n",
            "         0.05604893, -0.06319912, -0.0749267 ,  0.14674878, -0.14375773],\n",
            "       [ 0.19819537,  0.17801878,  0.0708631 , -0.0587199 , -0.18632095,\n",
            "         0.03846201,  0.21419331, -0.10727534, -0.05484901, -0.2230151 ],\n",
            "       [ 0.11536935,  0.10463619,  0.1939156 , -0.19240816,  0.02782381,\n",
            "        -0.12550008, -0.16962525,  0.20024398,  0.05354059,  0.16992104],\n",
            "       [ 0.1592949 , -0.15179461,  0.140048  ,  0.03206381,  0.04031223,\n",
            "        -0.0103088 , -0.03880224,  0.17299834,  0.05011165,  0.17163673],\n",
            "       [ 0.08510298,  0.21670553, -0.11099744, -0.17596114,  0.22503948,\n",
            "         0.01602928,  0.063364  ,  0.17984477, -0.00122312, -0.20665227],\n",
            "       [-0.00577094, -0.14387044, -0.0206887 , -0.19221522,  0.10767686,\n",
            "        -0.20215529, -0.15223624,  0.1273053 , -0.15780762, -0.16883577],\n",
            "       [ 0.16351932, -0.02401479,  0.17203742,  0.06055057,  0.01014063,\n",
            "         0.07812321, -0.11311399,  0.10015675,  0.10005197,  0.21316311],\n",
            "       [-0.12512027,  0.08451152,  0.21790984, -0.16009483, -0.0704319 ,\n",
            "         0.00812459,  0.15504888, -0.12727907, -0.21460792,  0.20026797],\n",
            "       [-0.1106722 ,  0.09397739,  0.02579686, -0.09408586,  0.08311805,\n",
            "        -0.17653562, -0.10750185, -0.06636885,  0.20811921,  0.12961581],\n",
            "       [-0.08813278, -0.10963929,  0.23177987,  0.1570094 , -0.16571805,\n",
            "         0.05120009,  0.10305494, -0.0783322 , -0.13787732,  0.21777788],\n",
            "       [ 0.10358959, -0.12395728,  0.15999183, -0.02172156,  0.08342198,\n",
            "         0.01406604,  0.02756855, -0.05972564,  0.17583373, -0.15510835],\n",
            "       [ 0.00731592,  0.02598885,  0.19189972,  0.10208461, -0.07790288,\n",
            "         0.03266367, -0.1641879 ,  0.22561201, -0.22713928, -0.22967741],\n",
            "       [ 0.20105454, -0.07786909, -0.18386573, -0.02602148, -0.1716899 ,\n",
            "        -0.12458806,  0.02223226,  0.10296622, -0.22421472,  0.17799923],\n",
            "       [ 0.18566126,  0.05536804, -0.22873926, -0.05929494, -0.21530667,\n",
            "        -0.23295951,  0.04448026, -0.02349788, -0.13234246,  0.09835643],\n",
            "       [ 0.16988802,  0.10587448, -0.09031102,  0.05445468, -0.20574224,\n",
            "         0.00813757, -0.13350451,  0.21261254, -0.22775948,  0.15779665],\n",
            "       [ 0.086896  , -0.1199111 , -0.08522393, -0.23106763, -0.16426289,\n",
            "         0.00547928,  0.15540653, -0.08400615, -0.02964446, -0.1534842 ],\n",
            "       [-0.11718038,  0.01151688, -0.03800844, -0.07443976,  0.19338834,\n",
            "         0.12892723, -0.08812265,  0.21769068, -0.07485443,  0.1728971 ],\n",
            "       [-0.13941978,  0.06150326, -0.03447264, -0.10382447, -0.0861742 ,\n",
            "         0.0519807 ,  0.17331383,  0.19926041,  0.00355773,  0.18824333],\n",
            "       [-0.00424117,  0.07269138, -0.11549632,  0.04959899,  0.03853023,\n",
            "        -0.11267026, -0.02933937, -0.22783102,  0.00999397,  0.11595348],\n",
            "       [-0.07676595,  0.16400686, -0.00680241,  0.19460383, -0.03909686,\n",
            "         0.04530776,  0.04640469,  0.07891375,  0.11210665,  0.01544029],\n",
            "       [ 0.0322606 , -0.17695652,  0.21847495, -0.10396367, -0.07233675,\n",
            "         0.12743077,  0.03344601,  0.1387482 , -0.03499639,  0.17699778],\n",
            "       [ 0.21300909, -0.06734999, -0.12730041, -0.07461227,  0.15356645,\n",
            "         0.02311155, -0.01937509, -0.0936076 ,  0.11599073,  0.08123979],\n",
            "       [-0.13669673,  0.22268674, -0.00359403, -0.20475784, -0.01513369,\n",
            "        -0.05904576,  0.22121868, -0.06949158,  0.01611382, -0.22909106],\n",
            "       [-0.1017959 , -0.00037925,  0.01643193, -0.01687962,  0.11260176,\n",
            "        -0.07408924,  0.19104734, -0.21340913,  0.08129439, -0.03599238],\n",
            "       [ 0.12585577, -0.17635737,  0.00118804,  0.15188488,  0.07390988,\n",
            "         0.11224374,  0.03128347,  0.09764597,  0.01968157, -0.18130444],\n",
            "       [ 0.22461051,  0.13528785,  0.04965901, -0.06451517,  0.12776497,\n",
            "         0.08341587, -0.05730501,  0.22792935,  0.18856901,  0.09781018],\n",
            "       [ 0.23018622, -0.15766184,  0.06727329,  0.09237289,  0.02258497,\n",
            "        -0.09710419,  0.08777541,  0.19103959,  0.03504974, -0.12339985],\n",
            "       [-0.09610842,  0.0397943 ,  0.05640814, -0.10865927,  0.22657678,\n",
            "        -0.12268911,  0.11079416,  0.21747652, -0.04534149, -0.12933666],\n",
            "       [ 0.02324966, -0.11652472, -0.00851649,  0.19175038,  0.11287925,\n",
            "         0.21403077,  0.07488489,  0.10190871, -0.15637724, -0.03717853],\n",
            "       [-0.14909157, -0.21386066, -0.09961537,  0.07512027, -0.17987652,\n",
            "        -0.21196929, -0.18382542,  0.00085457, -0.21340483,  0.00803883],\n",
            "       [-0.07602717,  0.21775755, -0.09011057,  0.21731544,  0.21885973,\n",
            "         0.20022821,  0.09444407,  0.11091524, -0.15958986,  0.08140165],\n",
            "       [ 0.22369844,  0.21229765, -0.06452776, -0.16549972, -0.11320253,\n",
            "         0.09518933,  0.01595774,  0.04322946,  0.19416979,  0.04316035],\n",
            "       [ 0.10525328,  0.14609224,  0.04880956, -0.23089992, -0.122906  ,\n",
            "        -0.04386373,  0.20314854,  0.15424639,  0.11922938,  0.08924559],\n",
            "       [-0.22443494,  0.07004657,  0.1661129 , -0.01245803,  0.1493055 ,\n",
            "         0.1450254 ,  0.06523833,  0.16339546,  0.0348146 , -0.10699052],\n",
            "       [-0.22633635,  0.20346233,  0.03594217, -0.22444953, -0.04562815,\n",
            "        -0.0758379 , -0.06826311,  0.22421056,  0.15558833,  0.01644786],\n",
            "       [ 0.01923272, -0.08132179,  0.17292872,  0.1080423 ,  0.01790702,\n",
            "        -0.07346871, -0.18814427,  0.08667389,  0.19307709,  0.00594233],\n",
            "       [-0.07391262,  0.06647024, -0.16745134,  0.0879252 , -0.11305803,\n",
            "        -0.22656825, -0.14339101, -0.100549  ,  0.15052596, -0.04695439]],\n",
            "      dtype=float32), array([[-0.00130135,  0.5869146 ],\n",
            "       [ 0.25553834, -0.16488671],\n",
            "       [-0.4077554 ,  0.0326001 ],\n",
            "       [ 0.49144357,  0.4626047 ],\n",
            "       [-0.5477652 ,  0.00264376],\n",
            "       [-0.34754983,  0.29235214],\n",
            "       [ 0.07777643, -0.40040198],\n",
            "       [-0.05550653,  0.58775824],\n",
            "       [ 0.42450756, -0.06625587],\n",
            "       [ 0.20490837,  0.30908877]], dtype=float32)]\n"
          ],
          "name": "stdout"
        }
      ]
    },
    {
      "cell_type": "markdown",
      "metadata": {
        "id": "Haw2xprEZAa0"
      },
      "source": [
        "### Задача 9"
      ]
    },
    {
      "cell_type": "markdown",
      "metadata": {
        "id": "X0O-ZLgEZGvp"
      },
      "source": [
        "Задайте значения весов для модели следующей структуры:\n",
        "- размерность входных данных равна 2\n",
        "- количество нейронов на первом скрытом слое равно 2\n",
        "- количество нейронов на втором скрытом слое равно 2\n",
        "- количество нейронов на выходном слое равно 1\n",
        "- нейрон смещения отключен на всех слоях.\n",
        "\n",
        "Пример нейронной сети: \n",
        "```\n",
        "model = Sequential()\n",
        "model.add(Dense(2, input_dim=2, use_bias=False))\n",
        "model.add(Dense(1, use_bias=False))\n",
        "```\n",
        "Значения весов заданной модели:\n",
        "```\n",
        "new_weights = [np.array([[w1, w3], [w2, w4]]), np.array([[w5], [w6]])]\n",
        "```\n",
        "\n",
        "\n",
        "\n"
      ]
    },
    {
      "cell_type": "code",
      "metadata": {
        "id": "8qk9QOvOZm9U",
        "colab": {
          "base_uri": "https://localhost:8080/"
        },
        "outputId": "101998de-fdcf-45c9-b92d-e9f2ff321d85"
      },
      "source": [
        "# Ваше решение\n",
        "import numpy as np\n",
        "model = Sequential()\n",
        "model.add(Dense(2, input_dim=2, use_bias=False))\n",
        "model.add(Dense(2, use_bias=False))\n",
        "model.add(Dense(2, use_bias=False))\n",
        "model.add(Dense(1, use_bias=False))\n",
        "new_weights = [np.array([[0.1, 0.2], [0.3, 0.1]]), np.array([[-0.1], 0.2])]\n",
        "model.summary()\n"
      ],
      "execution_count": 12,
      "outputs": [
        {
          "output_type": "stream",
          "name": "stdout",
          "text": [
            "Model: \"sequential_9\"\n",
            "_________________________________________________________________\n",
            " Layer (type)                Output Shape              Param #   \n",
            "=================================================================\n",
            " dense_31 (Dense)            (None, 2)                 4         \n",
            "                                                                 \n",
            " dense_32 (Dense)            (None, 2)                 4         \n",
            "                                                                 \n",
            " dense_33 (Dense)            (None, 2)                 4         \n",
            "                                                                 \n",
            " dense_34 (Dense)            (None, 1)                 2         \n",
            "                                                                 \n",
            "=================================================================\n",
            "Total params: 14\n",
            "Trainable params: 14\n",
            "Non-trainable params: 0\n",
            "_________________________________________________________________\n"
          ]
        },
        {
          "output_type": "stream",
          "name": "stderr",
          "text": [
            "/usr/local/lib/python3.7/dist-packages/ipykernel_launcher.py:8: VisibleDeprecationWarning: Creating an ndarray from ragged nested sequences (which is a list-or-tuple of lists-or-tuples-or ndarrays with different lengths or shapes) is deprecated. If you meant to do this, you must specify 'dtype=object' when creating the ndarray.\n",
            "  \n"
          ]
        }
      ]
    },
    {
      "cell_type": "markdown",
      "source": [],
      "metadata": {
        "id": "qD-vMEqYq-u9"
      }
    },
    {
      "cell_type": "markdown",
      "metadata": {
        "id": "BRVl80e7Zo-D"
      },
      "source": [
        "#### Решение"
      ]
    },
    {
      "cell_type": "code",
      "metadata": {
        "colab": {
          "base_uri": "https://localhost:8080/"
        },
        "id": "yWfKhrM3ZrBN",
        "outputId": "68955e9e-d10d-4979-9183-95c0c6d940d9"
      },
      "source": [
        "# Импорт библиотек для работы с массивами\n",
        "import numpy as np\n",
        "# Задание весов первого слоя\n",
        "w1 = 0.7\n",
        "w2 = 0.1\n",
        "w3 = 0.28\n",
        "w4 = 0.9\n",
        "# Задание весов второго слоя\n",
        "w5 = 0.7\n",
        "w6 = 0.6\n",
        "w7 = 0.15\n",
        "w8 = 0.9\n",
        "# Задание весов третьего слоя\n",
        "w9 = 0.28\n",
        "w10 = 0.1\n",
        "# Создание массива для заданной структуры нейронной сети\n",
        "new_weight = [np.array([[w1, w3], [w2, w4]]), np.array([[w5, w7], [w6, w8]]), np.array([[w9], [w10]])]\n",
        "# Вывод полученного массива весов\n",
        "print(new_weight)"
      ],
      "execution_count": 13,
      "outputs": [
        {
          "output_type": "stream",
          "name": "stdout",
          "text": [
            "[array([[0.7 , 0.28],\n",
            "       [0.1 , 0.9 ]]), array([[0.7 , 0.15],\n",
            "       [0.6 , 0.9 ]]), array([[0.28],\n",
            "       [0.1 ]])]\n"
          ]
        }
      ]
    },
    {
      "cell_type": "markdown",
      "metadata": {
        "id": "FjZOffgNwXNR"
      },
      "source": [
        "### Задача 10"
      ]
    },
    {
      "cell_type": "markdown",
      "metadata": {
        "id": "uD-BNJOtwZoy"
      },
      "source": [
        "Создайте модель для реализации структуры из задачи 9."
      ]
    },
    {
      "cell_type": "code",
      "metadata": {
        "id": "jCElylXRwgDe",
        "colab": {
          "base_uri": "https://localhost:8080/"
        },
        "outputId": "2f43b927-18b9-461a-fd43-5c9b80324b3b"
      },
      "source": [
        "# Ваше решение\n",
        "import numpy as np\n",
        "model = Sequential()\n",
        "model.add(Dense(2, input_dim=2, use_bias=False))\n",
        "model.add(Dense(2, use_bias=False))\n",
        "model.add(Dense(1, use_bias=False))\n",
        "new_weights = [np.array([[0.1, 0.2], [0.3, 0.1]]), np.array([[-0.1, 0.2], [0.3, -0.1]]), np.array([[-0.5, 0.4]])]\n",
        "model.summary()\n",
        "print(new_weights)"
      ],
      "execution_count": 18,
      "outputs": [
        {
          "output_type": "stream",
          "name": "stdout",
          "text": [
            "Model: \"sequential_13\"\n",
            "_________________________________________________________________\n",
            " Layer (type)                Output Shape              Param #   \n",
            "=================================================================\n",
            " dense_47 (Dense)            (None, 2)                 4         \n",
            "                                                                 \n",
            " dense_48 (Dense)            (None, 2)                 4         \n",
            "                                                                 \n",
            " dense_49 (Dense)            (None, 1)                 2         \n",
            "                                                                 \n",
            "=================================================================\n",
            "Total params: 10\n",
            "Trainable params: 10\n",
            "Non-trainable params: 0\n",
            "_________________________________________________________________\n",
            "[array([[0.1, 0.2],\n",
            "       [0.3, 0.1]]), array([[-0.1,  0.2],\n",
            "       [ 0.3, -0.1]]), array([[-0.5,  0.4]])]\n"
          ]
        }
      ]
    },
    {
      "cell_type": "markdown",
      "metadata": {
        "id": "b8Q93L8AwjZp"
      },
      "source": [
        "#### Решение"
      ]
    },
    {
      "cell_type": "code",
      "metadata": {
        "colab": {
          "base_uri": "https://localhost:8080/"
        },
        "id": "avtow_zKu4rW",
        "outputId": "b44b3d8a-772f-4221-9b27-bd9b8a740c5c"
      },
      "source": [
        "# Создание сети прямого распространения\n",
        "model = Sequential()\n",
        "# Создание полносвязного слоя с количеством нейронов 2, входной размерностью 2, отключенным нейроном смещения\n",
        "model.add(Dense(2, input_dim=2, use_bias=False))\n",
        "# Создание полносвязного слоя с количеством нейронов 2, отключенным нейроном смещения\n",
        "model.add(Dense(2, use_bias=False))\n",
        "# Создание полносвязного слоя с количеством нейронов 1, отключенным нейроном смещения\n",
        "model.add(Dense(1, use_bias=False))\n",
        "# Вывод структуры модели\n",
        "model.summary()"
      ],
      "execution_count": null,
      "outputs": [
        {
          "output_type": "stream",
          "text": [
            "Model: \"sequential_6\"\n",
            "_________________________________________________________________\n",
            "Layer (type)                 Output Shape              Param #   \n",
            "=================================================================\n",
            "dense_16 (Dense)             (None, 2)                 4         \n",
            "_________________________________________________________________\n",
            "dense_17 (Dense)             (None, 2)                 4         \n",
            "_________________________________________________________________\n",
            "dense_18 (Dense)             (None, 1)                 2         \n",
            "=================================================================\n",
            "Total params: 10\n",
            "Trainable params: 10\n",
            "Non-trainable params: 0\n",
            "_________________________________________________________________\n"
          ],
          "name": "stdout"
        }
      ]
    },
    {
      "cell_type": "markdown",
      "metadata": {
        "id": "IQvpehkzxG6d"
      },
      "source": [
        "### Задача 11"
      ]
    },
    {
      "cell_type": "markdown",
      "metadata": {
        "id": "5PuGDI6KxKCZ"
      },
      "source": [
        "Создайте входной вектор из числовых значений, который можно использовать для формирования модели из задачи 10.\n",
        "\n",
        "Пример создания входного вектора размерностью (1, 3):\n",
        "x1 = 5\n",
        "x2 = 1\n",
        "x3 = 6\n",
        "x_train = np.expand_dims(np.array([x1, x2, x3]), 0)"
      ]
    },
    {
      "cell_type": "code",
      "metadata": {
        "id": "Tkx9vth9xbKP"
      },
      "source": [
        "# Ваше решение"
      ],
      "execution_count": null,
      "outputs": []
    },
    {
      "cell_type": "markdown",
      "metadata": {
        "id": "_HLmzbEdxrvB"
      },
      "source": [
        "#### Решение"
      ]
    },
    {
      "cell_type": "code",
      "metadata": {
        "colab": {
          "base_uri": "https://localhost:8080/"
        },
        "id": "o9kK1kL0xuQg",
        "outputId": "0a1ecd11-556f-448d-82cb-179aa5860293"
      },
      "source": [
        "# Установка значений для входного вектора\n",
        "x1 = 8\n",
        "x2 = 15\n",
        "# Создание набора данных для последующего обучения нейронной сети\n",
        "x_train = np.expand_dims(np.array([x1, x2]), 0)\n",
        "# Вывод получившейся размерности данных\n",
        "x_train.shape"
      ],
      "execution_count": null,
      "outputs": [
        {
          "output_type": "execute_result",
          "data": {
            "text/plain": [
              "(1, 2)"
            ]
          },
          "metadata": {
            "tags": []
          },
          "execution_count": 45
        }
      ]
    },
    {
      "cell_type": "markdown",
      "metadata": {
        "id": "UB5uNqevyOE0"
      },
      "source": [
        "### Задача 12 "
      ]
    },
    {
      "cell_type": "markdown",
      "metadata": {
        "id": "4KhTaxbdyfLc"
      },
      "source": [
        "Задайте созданные в задаче 9 веса в модель из задания 10 с помощью функции .set_weights()."
      ]
    },
    {
      "cell_type": "code",
      "metadata": {
        "id": "CGTXgp3Uycjf"
      },
      "source": [
        "# Ваше решение"
      ],
      "execution_count": null,
      "outputs": []
    },
    {
      "cell_type": "markdown",
      "metadata": {
        "id": "HxhNmjtlyeS_"
      },
      "source": [
        "#### Решение"
      ]
    },
    {
      "cell_type": "code",
      "metadata": {
        "id": "uzOuo8TVzEre"
      },
      "source": [
        "# Установка заданных весов в модель\n",
        "model.set_weights(new_weight)"
      ],
      "execution_count": null,
      "outputs": []
    },
    {
      "cell_type": "markdown",
      "metadata": {
        "id": "qd6x4f2x4hz8"
      },
      "source": [
        "### Задача 13"
      ]
    },
    {
      "cell_type": "markdown",
      "metadata": {
        "id": "d3q7zN3e4l8c"
      },
      "source": [
        "Получите значения выхода сети с помощью функции .predict(), воспользовавшись вектором из задачи 11."
      ]
    },
    {
      "cell_type": "code",
      "metadata": {
        "id": "nJ9D62EW4g0i"
      },
      "source": [
        "# Ваше решение"
      ],
      "execution_count": null,
      "outputs": []
    },
    {
      "cell_type": "markdown",
      "metadata": {
        "id": "b3DPRDtZ46u7"
      },
      "source": [
        "####  Решение"
      ]
    },
    {
      "cell_type": "code",
      "metadata": {
        "colab": {
          "base_uri": "https://localhost:8080/"
        },
        "id": "jrUcOhid48v8",
        "outputId": "94370c69-3ea4-4f7a-cfbc-7d2ed7b3e94c"
      },
      "source": [
        "# Получение выхода сети и сохранение в переменную y_linear\n",
        "y_linear = model.predict(x_train)\n",
        "# Вывод значения выхода сети\n",
        "print(y_linear)"
      ],
      "execution_count": null,
      "outputs": [
        {
          "output_type": "stream",
          "text": [
            "[[5.5590196]]\n"
          ],
          "name": "stdout"
        }
      ]
    },
    {
      "cell_type": "markdown",
      "metadata": {
        "id": "31cbeZ-A5L3N"
      },
      "source": [
        "### Задача 14"
      ]
    },
    {
      "cell_type": "markdown",
      "metadata": {
        "id": "u2AMh6l171iL"
      },
      "source": [
        "Создайте нейронную сеть, содержащую три слоя, для классификации цифр от 0 до 5 включительно, с размерностью входных данных 256. Отобразите структуру модели."
      ]
    },
    {
      "cell_type": "code",
      "metadata": {
        "id": "MCWqa34x5hZK"
      },
      "source": [
        "# Ваше решение"
      ],
      "execution_count": null,
      "outputs": []
    },
    {
      "cell_type": "markdown",
      "metadata": {
        "id": "2JCukW1B5gwT"
      },
      "source": [
        "#### Решение"
      ]
    },
    {
      "cell_type": "code",
      "metadata": {
        "colab": {
          "base_uri": "https://localhost:8080/"
        },
        "id": "blFBjH6E-4Fz",
        "outputId": "5c08f88d-9903-4c39-903e-4567d86683c9"
      },
      "source": [
        "# Создание сети прямого распространения\n",
        "model = Sequential()\n",
        "# Создание полносвязного слоя с количеством нейронов 12, входной размерностью 256\n",
        "model.add(Dense(12, input_dim=256))\n",
        "# Создание полносвязного слоя с количеством нейронов 8\n",
        "model.add(Dense(8))\n",
        "# Создание полносвязного слоя с количеством нейронов 6\n",
        "model.add(Dense(6))\n",
        "# Вывод структуры модели\n",
        "model.summary()"
      ],
      "execution_count": null,
      "outputs": [
        {
          "output_type": "stream",
          "text": [
            "Model: \"sequential_7\"\n",
            "_________________________________________________________________\n",
            "Layer (type)                 Output Shape              Param #   \n",
            "=================================================================\n",
            "dense_19 (Dense)             (None, 12)                3084      \n",
            "_________________________________________________________________\n",
            "dense_20 (Dense)             (None, 8)                 104       \n",
            "_________________________________________________________________\n",
            "dense_21 (Dense)             (None, 6)                 54        \n",
            "=================================================================\n",
            "Total params: 3,242\n",
            "Trainable params: 3,242\n",
            "Non-trainable params: 0\n",
            "_________________________________________________________________\n"
          ],
          "name": "stdout"
        }
      ]
    },
    {
      "cell_type": "markdown",
      "metadata": {
        "id": "_jBJeNRq_uIt"
      },
      "source": [
        "### Задача 15"
      ]
    },
    {
      "cell_type": "markdown",
      "metadata": {
        "id": "xMjGPMRI_uIv"
      },
      "source": [
        "Создайте нейронную сеть для классификации 5-и видов диких животных по фотографии 25х25. Постройте архитектуру нейронной сети, содержащую шесть слоев."
      ]
    },
    {
      "cell_type": "code",
      "metadata": {
        "id": "q9HSA-jc_uIw"
      },
      "source": [
        "# Ваше решение"
      ],
      "execution_count": null,
      "outputs": []
    },
    {
      "cell_type": "markdown",
      "metadata": {
        "id": "-E9fjZkP_uIx"
      },
      "source": [
        "#### Решение"
      ]
    },
    {
      "cell_type": "code",
      "metadata": {
        "colab": {
          "base_uri": "https://localhost:8080/"
        },
        "id": "n6jk67jk_uIy",
        "outputId": "f64bfdeb-fa9d-464c-8956-ee0e2771aa8e"
      },
      "source": [
        "# Создание сети прямого распространения\n",
        "model = Sequential()\n",
        "# Создание полносвязного слоя с количеством нейронов 120, входной размерностью 625\n",
        "model.add(Dense(120, input_dim=625))\n",
        "# Создание полносвязного слоя с количеством нейронов 100\n",
        "model.add(Dense(100))\n",
        "# Создание полносвязного слоя с количеством нейронов 80\n",
        "model.add(Dense(80))\n",
        "# Создание полносвязного слоя с количеством нейронов 60\n",
        "model.add(Dense(60))\n",
        "# Создание полносвязного слоя с количеством нейронов 40\n",
        "model.add(Dense(40))\n",
        "# Создание полносвязного слоя с количеством нейронов 5\n",
        "model.add(Dense(5))\n",
        "# Вывод структуры модели\n",
        "model.summary()"
      ],
      "execution_count": null,
      "outputs": [
        {
          "output_type": "stream",
          "text": [
            "Model: \"sequential_8\"\n",
            "_________________________________________________________________\n",
            "Layer (type)                 Output Shape              Param #   \n",
            "=================================================================\n",
            "dense_22 (Dense)             (None, 120)               75120     \n",
            "_________________________________________________________________\n",
            "dense_23 (Dense)             (None, 100)               12100     \n",
            "_________________________________________________________________\n",
            "dense_24 (Dense)             (None, 80)                8080      \n",
            "_________________________________________________________________\n",
            "dense_25 (Dense)             (None, 60)                4860      \n",
            "_________________________________________________________________\n",
            "dense_26 (Dense)             (None, 40)                2440      \n",
            "_________________________________________________________________\n",
            "dense_27 (Dense)             (None, 5)                 205       \n",
            "=================================================================\n",
            "Total params: 102,805\n",
            "Trainable params: 102,805\n",
            "Non-trainable params: 0\n",
            "_________________________________________________________________\n"
          ],
          "name": "stdout"
        }
      ]
    },
    {
      "cell_type": "markdown",
      "metadata": {
        "id": "29rDPPX8A8_b"
      },
      "source": [
        "### Задача 16"
      ]
    },
    {
      "cell_type": "markdown",
      "metadata": {
        "id": "ihtnxtXpA8__"
      },
      "source": [
        "Создайте нейронную сеть, использующую температуру тела и давление для отличия больного человека от здорового. Постройте архитектуру нейронной сети, содержащую четыре слоя, на выходном слое используйте функцию активации `linear`."
      ]
    },
    {
      "cell_type": "code",
      "metadata": {
        "id": "kqMfqc7VA9AA"
      },
      "source": [
        "# Ваше решение"
      ],
      "execution_count": null,
      "outputs": []
    },
    {
      "cell_type": "markdown",
      "metadata": {
        "id": "hh4mtCZsA9AC"
      },
      "source": [
        "#### Решение"
      ]
    },
    {
      "cell_type": "code",
      "metadata": {
        "colab": {
          "base_uri": "https://localhost:8080/"
        },
        "id": "aXLRPqkcA9AD",
        "outputId": "800bb312-f2c5-4602-dacf-33e6f494f3ca"
      },
      "source": [
        "# Создание сети прямого распространения\n",
        "model = Sequential()\n",
        "# Создание полносвязного слоя с количеством нейронов 12, входной размерностью 2\n",
        "model.add(Dense(12, input_dim=2))\n",
        "# Создание полносвязного слоя с количеством нейронов 10\n",
        "model.add(Dense(10))\n",
        "# Создание полносвязного слоя с количеством нейронов 8\n",
        "model.add(Dense(8))\n",
        "# Создание полносвязного слоя с количеством нейронов 1, linear-активацией\n",
        "model.add(Dense(1, activation='linear'))\n",
        "# Вывод структуры модели\n",
        "model.summary()"
      ],
      "execution_count": null,
      "outputs": [
        {
          "output_type": "stream",
          "text": [
            "Model: \"sequential_9\"\n",
            "_________________________________________________________________\n",
            "Layer (type)                 Output Shape              Param #   \n",
            "=================================================================\n",
            "dense_28 (Dense)             (None, 12)                36        \n",
            "_________________________________________________________________\n",
            "dense_29 (Dense)             (None, 10)                130       \n",
            "_________________________________________________________________\n",
            "dense_30 (Dense)             (None, 8)                 88        \n",
            "_________________________________________________________________\n",
            "dense_31 (Dense)             (None, 1)                 9         \n",
            "=================================================================\n",
            "Total params: 263\n",
            "Trainable params: 263\n",
            "Non-trainable params: 0\n",
            "_________________________________________________________________\n"
          ],
          "name": "stdout"
        }
      ]
    },
    {
      "cell_type": "markdown",
      "metadata": {
        "id": "AgI7C4dPDcFj"
      },
      "source": [
        "### Задача 17"
      ]
    },
    {
      "cell_type": "markdown",
      "metadata": {
        "id": "o4ZyxmfYDcGG"
      },
      "source": [
        "Создайте нейронную сеть, отличающую мак от розы по изображению 12 на 12 пикселей. Постройте архитектуру нейронной сети, содержащую два слоя, на выходном слое используйте функцию активации `sigmoid`. "
      ]
    },
    {
      "cell_type": "code",
      "metadata": {
        "id": "RDyrKSDRDcGI"
      },
      "source": [
        "# Ваше решение"
      ],
      "execution_count": null,
      "outputs": []
    },
    {
      "cell_type": "markdown",
      "metadata": {
        "id": "JeyYni5HDcGJ"
      },
      "source": [
        "#### Решение"
      ]
    },
    {
      "cell_type": "code",
      "metadata": {
        "colab": {
          "base_uri": "https://localhost:8080/"
        },
        "id": "vCiim2D2DcGK",
        "outputId": "d8dd8ce3-cfe5-42a8-ec2c-876011502b8d"
      },
      "source": [
        "# Создание сети прямого распространения\n",
        "model = Sequential()\n",
        "# Создание полносвязного слоя с количеством нейронов 12, входной размерностью 144\n",
        "model.add(Dense(12, input_dim=144))\n",
        "# Создание полносвязного слоя с количеством нейронов 1, sigmoid-активацией\n",
        "model.add(Dense(1, activation='sigmoid'))\n",
        "# Вывод структуры модели\n",
        "model.summary()"
      ],
      "execution_count": null,
      "outputs": [
        {
          "output_type": "stream",
          "text": [
            "Model: \"sequential_10\"\n",
            "_________________________________________________________________\n",
            "Layer (type)                 Output Shape              Param #   \n",
            "=================================================================\n",
            "dense_32 (Dense)             (None, 12)                1740      \n",
            "_________________________________________________________________\n",
            "dense_33 (Dense)             (None, 1)                 13        \n",
            "=================================================================\n",
            "Total params: 1,753\n",
            "Trainable params: 1,753\n",
            "Non-trainable params: 0\n",
            "_________________________________________________________________\n"
          ],
          "name": "stdout"
        }
      ]
    },
    {
      "cell_type": "markdown",
      "metadata": {
        "id": "cKqC4WGWEDFj"
      },
      "source": [
        "### Задача 18"
      ]
    },
    {
      "cell_type": "markdown",
      "metadata": {
        "id": "M-E7PkXAEDFk"
      },
      "source": [
        "Создайте нейронную сеть для классификации пресмыкающихся по трем категориям. Известно, что каждая категория характеризуется 8-ю числовыми признаками. Постройте архитектуру нейронной сети, содержащую три слоя с различными активационными функциями для решения поставленной задачи."
      ]
    },
    {
      "cell_type": "code",
      "metadata": {
        "id": "MC-bPogfEDFl"
      },
      "source": [
        "# Ваше решение"
      ],
      "execution_count": null,
      "outputs": []
    },
    {
      "cell_type": "markdown",
      "metadata": {
        "id": "xLQcMP_cEDFm"
      },
      "source": [
        "#### Решение"
      ]
    },
    {
      "cell_type": "code",
      "metadata": {
        "colab": {
          "base_uri": "https://localhost:8080/"
        },
        "id": "Iq2O0jQbEDFn",
        "outputId": "800bb312-f2c5-4602-dacf-33e6f494f3ca"
      },
      "source": [
        "# Создание сети прямого распространения\n",
        "model = Sequential()\n",
        "# Создание полносвязного слоя с количеством нейронов 12, входной размерностью 8, relu-активацией\n",
        "model.add(Dense(12, input_dim=8, activation='relu'))\n",
        "# Создание полносвязного слоя с количеством нейронов 10, elu-активацией\n",
        "model.add(Dense(10, activation='elu'))\n",
        "# Создание полносвязного слоя с количеством нейронов 10, linear-активацией\n",
        "model.add(Dense(3, activation='linear'))\n",
        "# Вывод структуры нейронной сети\n",
        "model.summary()"
      ],
      "execution_count": null,
      "outputs": [
        {
          "output_type": "stream",
          "text": [
            "Model: \"sequential_9\"\n",
            "_________________________________________________________________\n",
            "Layer (type)                 Output Shape              Param #   \n",
            "=================================================================\n",
            "dense_28 (Dense)             (None, 12)                36        \n",
            "_________________________________________________________________\n",
            "dense_29 (Dense)             (None, 10)                130       \n",
            "_________________________________________________________________\n",
            "dense_30 (Dense)             (None, 8)                 88        \n",
            "_________________________________________________________________\n",
            "dense_31 (Dense)             (None, 1)                 9         \n",
            "=================================================================\n",
            "Total params: 263\n",
            "Trainable params: 263\n",
            "Non-trainable params: 0\n",
            "_________________________________________________________________\n"
          ],
          "name": "stdout"
        }
      ]
    }
  ]
}